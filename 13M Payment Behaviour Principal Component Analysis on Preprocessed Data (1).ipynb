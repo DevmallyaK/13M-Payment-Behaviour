{
 "cells": [
  {
   "cell_type": "code",
   "execution_count": 1,
   "id": "7f1fcc15",
   "metadata": {},
   "outputs": [
    {
     "data": {
      "image/jpeg": "[encoded data removed]",
      "text/plain": [
       "<IPython.core.display.Image object>"
      ]
     },
     "execution_count": 1,
     "metadata": {
      "image/jpeg": {
       "height": 200,
       "width": 800
      }
     },
     "output_type": "execute_result"
    }
   ],
   "source": [
    "from IPython.display import Image\n",
    "Image(filename ='E:/PIP_Devmallya/Week_1/Problem_2/UPI-and-Rupay-Card.jpg', width = 800, height = 200)"
   ]
  },
  {
   "cell_type": "markdown",
   "id": "9d920297",
   "metadata": {},
   "source": [
    "# Problem Description:\n",
    "\n",
    "Prepare a Machine Learning Model to predict the Persistency 13M Payment Behaviour at the New Business stage.\n",
    "\n",
    "# Objective:\n",
    "\n",
    "Using Machine Learning techniques, provide scores for each policy at the New Business stage the likelihood to pay the 13M premium.\n",
    "\n",
    "Identify the segments where maximum non payers are captured.\n",
    "\n",
    "# Dataset:\n",
    "\n",
    "“Training” & “Test” Dataset with the raw input attributes and the 13M actual paid/not paid flag.\n",
    "\n",
    "“Out of Time” Datasets would be provided with just the raw input attributes.\n",
    "\n",
    "# Expected Steps:\n",
    "\n",
    " Conduct appropriate Data Treatments for e.g. Missing Value Imputation, Outlier treatment etc.\n",
    " \n",
    " Conduct required Feature Engineering for e.g. Binning, Ratio, Interaction, Polynomial  etc.\n",
    " \n",
    " Use any machine learning algorithm or combination of machine learning algorithms you deem fit.\n",
    " \n",
    " Prepare your model on the Train Data and you can evaluate the generalization capability of your model by using K-Fold Cross Validation, Leave One Out.\n",
    " \n",
    " Cross Validation or any other validation technique that you see appropriate.\n",
    " \n",
    " Score the Test and Out of Time Data and share it back to us along with the scored Train Data for evaluation. Also share all the Model Codes."
   ]
  },
  {
   "cell_type": "markdown",
   "id": "87af6e85",
   "metadata": {},
   "source": [
    "# 1. Import the Dependencies"
   ]
  },
  {
   "cell_type": "code",
   "execution_count": 34,
   "id": "edb1e396",
   "metadata": {},
   "outputs": [],
   "source": [
    "import pandas as pd\n",
    "import numpy as np\n",
    "import matplotlib.pyplot as plt\n",
    "import seaborn as sns\n",
    "import pickle\n",
    "import warnings\n",
    "from patsy import dmatrices                \n",
    "import sklearn\n",
    "import statsmodels.api as sm\n",
    "from scipy import stats\n",
    "from scipy.special import factorial\n",
    "from sklearn import preprocessing\n",
    "from sklearn.preprocessing import StandardScaler \n",
    "%matplotlib inline\n",
    "sns.set(style='darkgrid')\n",
    "warnings.filterwarnings('ignore')"
   ]
  },
  {
   "cell_type": "markdown",
   "id": "f09d9dd4",
   "metadata": {},
   "source": [
    "# 2. Load the dataset\n",
    "\n",
    "By giving a parameter value for the file name (e.g. pd. read csv(\"filename. csv\")), we may import tabular data from CSV files into pandas dataframes using the pandas package's read csv() method. Remember that we gave pandas an alias (pd), so will'll be calling pandas functions with pd."
   ]
  },
  {
   "cell_type": "code",
   "execution_count": 3,
   "id": "e6128308",
   "metadata": {},
   "outputs": [
    {
     "data": {
      "text/html": [
       "<div>\n",
       "<style scoped>\n",
       "    .dataframe tbody tr th:only-of-type {\n",
       "        vertical-align: middle;\n",
       "    }\n",
       "\n",
       "    .dataframe tbody tr th {\n",
       "        vertical-align: top;\n",
       "    }\n",
       "\n",
       "    .dataframe thead th {\n",
       "        text-align: right;\n",
       "    }\n",
       "</style>\n",
       "<table border=\"1\" class=\"dataframe\">\n",
       "  <thead>\n",
       "    <tr style=\"text-align: right;\">\n",
       "      <th></th>\n",
       "      <th>Mapped Agent 13M Persistency</th>\n",
       "      <th>Applicant's Policy Annualized Premium</th>\n",
       "      <th>Mapped Agent Vintage</th>\n",
       "      <th>Auto Debit of Premium Opted Flag(Yes/No)</th>\n",
       "      <th>Application Life Assured BMI</th>\n",
       "      <th>Total Risk Exposure of HDFC Life w.r.t. Life Assured</th>\n",
       "      <th>Application  Sourcing Channel</th>\n",
       "      <th>Application  Life Assured City</th>\n",
       "      <th>Application  Life Assured City Tier</th>\n",
       "      <th>Application  Life Assured Age</th>\n",
       "      <th>...</th>\n",
       "      <th>Applicant's Policy Sum Assured</th>\n",
       "      <th>HDFC Life Operational Zone</th>\n",
       "      <th>Application Login year</th>\n",
       "      <th>Application Login month</th>\n",
       "      <th>Application Login day</th>\n",
       "      <th>Mapped Agent city</th>\n",
       "      <th>Applicant's Policy Contract city</th>\n",
       "      <th>Target</th>\n",
       "      <th>smoker_drinker</th>\n",
       "      <th>Perf+vintage</th>\n",
       "    </tr>\n",
       "  </thead>\n",
       "  <tbody>\n",
       "    <tr>\n",
       "      <th>0</th>\n",
       "      <td>93.47</td>\n",
       "      <td>7157.0</td>\n",
       "      <td>33.0</td>\n",
       "      <td>Y</td>\n",
       "      <td>1.0</td>\n",
       "      <td>10000000.0</td>\n",
       "      <td>HDFC BANK</td>\n",
       "      <td>bangalore</td>\n",
       "      <td>Tier I</td>\n",
       "      <td>(6.999, 33.0]</td>\n",
       "      <td>...</td>\n",
       "      <td>10000000.0</td>\n",
       "      <td>North 1</td>\n",
       "      <td>2018</td>\n",
       "      <td>7</td>\n",
       "      <td>7</td>\n",
       "      <td>Delhi</td>\n",
       "      <td>Delhi</td>\n",
       "      <td>1</td>\n",
       "      <td>NN</td>\n",
       "      <td>3084.51</td>\n",
       "    </tr>\n",
       "    <tr>\n",
       "      <th>1</th>\n",
       "      <td>81.59</td>\n",
       "      <td>25000.0</td>\n",
       "      <td>42.0</td>\n",
       "      <td>N</td>\n",
       "      <td>3.0</td>\n",
       "      <td>145501.0</td>\n",
       "      <td>HDFC BANK</td>\n",
       "      <td>others</td>\n",
       "      <td>Tier III</td>\n",
       "      <td>(41.0, 50.0]</td>\n",
       "      <td>...</td>\n",
       "      <td>145501.0</td>\n",
       "      <td>West</td>\n",
       "      <td>2018</td>\n",
       "      <td>3</td>\n",
       "      <td>31</td>\n",
       "      <td>Ahmedabad</td>\n",
       "      <td>Ahmedabad</td>\n",
       "      <td>1</td>\n",
       "      <td>NN</td>\n",
       "      <td>3426.78</td>\n",
       "    </tr>\n",
       "    <tr>\n",
       "      <th>2</th>\n",
       "      <td>87.58</td>\n",
       "      <td>35000.0</td>\n",
       "      <td>35.0</td>\n",
       "      <td>Y</td>\n",
       "      <td>2.0</td>\n",
       "      <td>800000.0</td>\n",
       "      <td>Ex-HDFC</td>\n",
       "      <td>jaipur</td>\n",
       "      <td>Tier II</td>\n",
       "      <td>(50.0, 66.0]</td>\n",
       "      <td>...</td>\n",
       "      <td>1600000.0</td>\n",
       "      <td>North 2</td>\n",
       "      <td>2018</td>\n",
       "      <td>6</td>\n",
       "      <td>9</td>\n",
       "      <td>Jaipur</td>\n",
       "      <td>Jaipur</td>\n",
       "      <td>1</td>\n",
       "      <td>NN</td>\n",
       "      <td>3065.30</td>\n",
       "    </tr>\n",
       "    <tr>\n",
       "      <th>3</th>\n",
       "      <td>80.18</td>\n",
       "      <td>100000.0</td>\n",
       "      <td>12.0</td>\n",
       "      <td>Y</td>\n",
       "      <td>2.0</td>\n",
       "      <td>1000000.0</td>\n",
       "      <td>HDFC BANK</td>\n",
       "      <td>jaipur</td>\n",
       "      <td>Tier II</td>\n",
       "      <td>(6.999, 33.0]</td>\n",
       "      <td>...</td>\n",
       "      <td>2000000.0</td>\n",
       "      <td>North 2</td>\n",
       "      <td>2018</td>\n",
       "      <td>2</td>\n",
       "      <td>21</td>\n",
       "      <td>Jaipur</td>\n",
       "      <td>Mumbai</td>\n",
       "      <td>1</td>\n",
       "      <td>NN</td>\n",
       "      <td>962.16</td>\n",
       "    </tr>\n",
       "    <tr>\n",
       "      <th>4</th>\n",
       "      <td>97.19</td>\n",
       "      <td>15000.0</td>\n",
       "      <td>45.0</td>\n",
       "      <td>Y</td>\n",
       "      <td>2.0</td>\n",
       "      <td>300000.0</td>\n",
       "      <td>HDFC BANK</td>\n",
       "      <td>others</td>\n",
       "      <td>Tier III</td>\n",
       "      <td>(33.0, 41.0]</td>\n",
       "      <td>...</td>\n",
       "      <td>165000.0</td>\n",
       "      <td>West</td>\n",
       "      <td>2018</td>\n",
       "      <td>6</td>\n",
       "      <td>6</td>\n",
       "      <td>others</td>\n",
       "      <td>others</td>\n",
       "      <td>1</td>\n",
       "      <td>NN</td>\n",
       "      <td>4373.55</td>\n",
       "    </tr>\n",
       "  </tbody>\n",
       "</table>\n",
       "<p>5 rows × 38 columns</p>\n",
       "</div>"
      ],
      "text/plain": [
       "   Mapped Agent 13M Persistency  Applicant's Policy Annualized Premium  \\\n",
       "0                         93.47                                 7157.0   \n",
       "1                         81.59                                25000.0   \n",
       "2                         87.58                                35000.0   \n",
       "3                         80.18                               100000.0   \n",
       "4                         97.19                                15000.0   \n",
       "\n",
       "   Mapped Agent Vintage Auto Debit of Premium Opted Flag(Yes/No)  \\\n",
       "0                  33.0                                        Y   \n",
       "1                  42.0                                        N   \n",
       "2                  35.0                                        Y   \n",
       "3                  12.0                                        Y   \n",
       "4                  45.0                                        Y   \n",
       "\n",
       "   Application Life Assured BMI  \\\n",
       "0                           1.0   \n",
       "1                           3.0   \n",
       "2                           2.0   \n",
       "3                           2.0   \n",
       "4                           2.0   \n",
       "\n",
       "   Total Risk Exposure of HDFC Life w.r.t. Life Assured  \\\n",
       "0                                         10000000.0      \n",
       "1                                           145501.0      \n",
       "2                                           800000.0      \n",
       "3                                          1000000.0      \n",
       "4                                           300000.0      \n",
       "\n",
       "  Application  Sourcing Channel Application  Life Assured City  \\\n",
       "0                     HDFC BANK                      bangalore   \n",
       "1                     HDFC BANK                         others   \n",
       "2                       Ex-HDFC                         jaipur   \n",
       "3                     HDFC BANK                         jaipur   \n",
       "4                     HDFC BANK                         others   \n",
       "\n",
       "  Application  Life Assured City Tier Application  Life Assured Age  ...  \\\n",
       "0                              Tier I                 (6.999, 33.0]  ...   \n",
       "1                            Tier III                  (41.0, 50.0]  ...   \n",
       "2                             Tier II                  (50.0, 66.0]  ...   \n",
       "3                             Tier II                 (6.999, 33.0]  ...   \n",
       "4                            Tier III                  (33.0, 41.0]  ...   \n",
       "\n",
       "  Applicant's Policy Sum Assured HDFC Life Operational Zone  \\\n",
       "0                     10000000.0                    North 1   \n",
       "1                       145501.0                       West   \n",
       "2                      1600000.0                    North 2   \n",
       "3                      2000000.0                    North 2   \n",
       "4                       165000.0                       West   \n",
       "\n",
       "   Application Login year Application Login month Application Login day  \\\n",
       "0                    2018                       7                     7   \n",
       "1                    2018                       3                    31   \n",
       "2                    2018                       6                     9   \n",
       "3                    2018                       2                    21   \n",
       "4                    2018                       6                     6   \n",
       "\n",
       "  Mapped Agent city Applicant's Policy Contract city Target smoker_drinker  \\\n",
       "0             Delhi                            Delhi      1             NN   \n",
       "1         Ahmedabad                        Ahmedabad      1             NN   \n",
       "2            Jaipur                           Jaipur      1             NN   \n",
       "3            Jaipur                           Mumbai      1             NN   \n",
       "4            others                           others      1             NN   \n",
       "\n",
       "  Perf+vintage  \n",
       "0      3084.51  \n",
       "1      3426.78  \n",
       "2      3065.30  \n",
       "3       962.16  \n",
       "4      4373.55  \n",
       "\n",
       "[5 rows x 38 columns]"
      ]
     },
     "execution_count": 3,
     "metadata": {},
     "output_type": "execute_result"
    }
   ],
   "source": [
    "df_train = pd.read_csv('E:/PIP_Devmallya/Week_1/Problem_2/Final_data.csv')\n",
    "df_train.head()"
   ]
  },
  {
   "cell_type": "code",
   "execution_count": 4,
   "id": "ee80742f",
   "metadata": {},
   "outputs": [
    {
     "data": {
      "text/plain": [
       "Index(['Mapped Agent 13M Persistency', 'Applicant's Policy Annualized Premium',\n",
       "       'Mapped Agent Vintage', 'Auto Debit of Premium Opted Flag(Yes/No)',\n",
       "       'Application Life Assured BMI',\n",
       "       'Total Risk Exposure of HDFC Life w.r.t. Life Assured',\n",
       "       'Application  Sourcing Channel', 'Application  Life Assured City',\n",
       "       'Application  Life Assured City Tier', 'Application  Life Assured Age',\n",
       "       'Application  Life Assured Education',\n",
       "       'Application  Life Assured Gender', 'Application  Life Assured Income',\n",
       "       'Application  Life Assured Industry',\n",
       "       'Application  Life Assured Marital Status',\n",
       "       'Application  Life Assured Occupation',\n",
       "       'Applicant's Policy PAR/NON PAR/ULIP Tag',\n",
       "       'Application Specific Sourcing Partner', 'First Premium Payment Type',\n",
       "       'Applicant's Policy Product Category',\n",
       "       'Applicant's Policy Premium Payment Frequency',\n",
       "       'Applicant's Policy Product Name',\n",
       "       'Applicant's Policy Price Sensitivity(1-'Yes', 0-'No')',\n",
       "       'Application Life Assured Residential Status',\n",
       "       'Applicant's Policy Risk Cessation Term',\n",
       "       'Applicant's Policy Rider Opted Flag(1-'Yes', 0-'No')',\n",
       "       'Application Life Assured State', 'Application Sourcing Sub Channel',\n",
       "       'Applicant's Policy Sum Assured', 'HDFC Life Operational Zone',\n",
       "       'Application Login year', 'Application Login month',\n",
       "       'Application Login day', 'Mapped Agent city',\n",
       "       'Applicant's Policy Contract city', 'Target', 'smoker_drinker',\n",
       "       'Perf+vintage'],\n",
       "      dtype='object')"
      ]
     },
     "execution_count": 4,
     "metadata": {},
     "output_type": "execute_result"
    }
   ],
   "source": [
    "df_train.columns"
   ]
  },
  {
   "cell_type": "code",
   "execution_count": 5,
   "id": "f39c4e1c",
   "metadata": {},
   "outputs": [
    {
     "name": "stdout",
     "output_type": "stream",
     "text": [
      "<class 'pandas.core.frame.DataFrame'>\n",
      "RangeIndex: 25320 entries, 0 to 25319\n",
      "Data columns (total 38 columns):\n",
      " #   Column                                                 Non-Null Count  Dtype  \n",
      "---  ------                                                 --------------  -----  \n",
      " 0   Mapped Agent 13M Persistency                           25320 non-null  float64\n",
      " 1   Applicant's Policy Annualized Premium                  25320 non-null  float64\n",
      " 2   Mapped Agent Vintage                                   25320 non-null  float64\n",
      " 3   Auto Debit of Premium Opted Flag(Yes/No)               25320 non-null  object \n",
      " 4   Application Life Assured BMI                           25320 non-null  float64\n",
      " 5   Total Risk Exposure of HDFC Life w.r.t. Life Assured   25320 non-null  float64\n",
      " 6   Application  Sourcing Channel                          25320 non-null  object \n",
      " 7   Application  Life Assured City                         25320 non-null  object \n",
      " 8   Application  Life Assured City Tier                    25320 non-null  object \n",
      " 9   Application  Life Assured Age                          25320 non-null  object \n",
      " 10  Application  Life Assured Education                    25320 non-null  object \n",
      " 11  Application  Life Assured Gender                       25320 non-null  object \n",
      " 12  Application  Life Assured Income                       25320 non-null  float64\n",
      " 13  Application  Life Assured Industry                     25320 non-null  object \n",
      " 14  Application  Life Assured Marital Status               25320 non-null  object \n",
      " 15  Application  Life Assured Occupation                   25320 non-null  object \n",
      " 16  Applicant's Policy PAR/NON PAR/ULIP Tag                25320 non-null  object \n",
      " 17  Application Specific Sourcing Partner                  25320 non-null  object \n",
      " 18  First Premium Payment Type                             25320 non-null  object \n",
      " 19  Applicant's Policy Product Category                    25320 non-null  object \n",
      " 20  Applicant's Policy Premium Payment Frequency           25320 non-null  object \n",
      " 21  Applicant's Policy Product Name                        25320 non-null  object \n",
      " 22  Applicant's Policy Price Sensitivity(1-'Yes', 0-'No')  25320 non-null  int64  \n",
      " 23  Application Life Assured Residential Status            25320 non-null  object \n",
      " 24  Applicant's Policy Risk Cessation Term                 25320 non-null  float64\n",
      " 25  Applicant's Policy Rider Opted Flag(1-'Yes', 0-'No')   25320 non-null  int64  \n",
      " 26  Application Life Assured State                         25320 non-null  object \n",
      " 27  Application Sourcing Sub Channel                       25320 non-null  object \n",
      " 28  Applicant's Policy Sum Assured                         25320 non-null  float64\n",
      " 29  HDFC Life Operational Zone                             25320 non-null  object \n",
      " 30  Application Login year                                 25320 non-null  int64  \n",
      " 31  Application Login month                                25320 non-null  int64  \n",
      " 32  Application Login day                                  25320 non-null  int64  \n",
      " 33  Mapped Agent city                                      25320 non-null  object \n",
      " 34  Applicant's Policy Contract city                       25320 non-null  object \n",
      " 35  Target                                                 25320 non-null  int64  \n",
      " 36  smoker_drinker                                         25320 non-null  object \n",
      " 37  Perf+vintage                                           25320 non-null  float64\n",
      "dtypes: float64(9), int64(6), object(23)\n",
      "memory usage: 7.3+ MB\n"
     ]
    }
   ],
   "source": [
    "df_train.info()"
   ]
  },
  {
   "cell_type": "code",
   "execution_count": 6,
   "id": "5b440ba3",
   "metadata": {},
   "outputs": [
    {
     "data": {
      "text/plain": [
       "Mapped Agent 13M Persistency                             1.439343e+01\n",
       "Applicant's Policy Annualized Premium                    7.173271e+04\n",
       "Mapped Agent Vintage                                     1.803208e+01\n",
       "Application Life Assured BMI                             1.631083e+00\n",
       "Total Risk Exposure of HDFC Life w.r.t. Life Assured     4.910357e+06\n",
       "Application  Life Assured Income                         1.486164e+06\n",
       "Applicant's Policy Price Sensitivity(1-'Yes', 0-'No')    3.064271e-01\n",
       "Applicant's Policy Risk Cessation Term                   7.217959e+00\n",
       "Applicant's Policy Rider Opted Flag(1-'Yes', 0-'No')     4.996883e-01\n",
       "Applicant's Policy Sum Assured                           2.685334e+06\n",
       "Application Login year                                   2.972338e-01\n",
       "Application Login month                                  3.717016e+00\n",
       "Application Login day                                    9.387921e+00\n",
       "Target                                                   4.152279e-01\n",
       "Perf+vintage                                             1.500578e+03\n",
       "dtype: float64"
      ]
     },
     "execution_count": 6,
     "metadata": {},
     "output_type": "execute_result"
    }
   ],
   "source": [
    "df_train.std()"
   ]
  },
  {
   "cell_type": "markdown",
   "id": "77a45c75",
   "metadata": {},
   "source": [
    "# 3. Label Encoding\n",
    "\n",
    "* Label encoding is the process of translating labels into a numeric format so that they may be read by machines. Machine learning algorithms can then make better decisions about how those labels should be used. In supervised learning, it is a crucial pre-processing step for the structured dataset.\n",
    "* Sklearn is an extremely efficient technique for encoding categorical feature levels into numeric values. LabelEncoder encodes labels with values ranging from 0 to n classes-1, where n is the number of different labels. If a label is repeated, it is allocated the same value as before.\n",
    "* one hot encoding = A one-hot encoding provides for more expressive categorical data representation. Many machine learning algorithms are unable to operate directly with categorical data. The categories must be numerically transformed. This is necessary for categorical input and output variables."
   ]
  },
  {
   "cell_type": "code",
   "execution_count": 8,
   "id": "a65f7e9f",
   "metadata": {},
   "outputs": [],
   "source": [
    "label_encoder = preprocessing.LabelEncoder()"
   ]
  },
  {
   "cell_type": "code",
   "execution_count": 9,
   "id": "3590096d",
   "metadata": {},
   "outputs": [
    {
     "data": {
      "text/plain": [
       "array([1, 0])"
      ]
     },
     "execution_count": 9,
     "metadata": {},
     "output_type": "execute_result"
    }
   ],
   "source": [
    "df_train['Auto Debit of Premium Opted Flag(Yes/No)']= label_encoder.fit_transform(df_train['Auto Debit of Premium Opted Flag(Yes/No)']) \n",
    "df_train['Auto Debit of Premium Opted Flag(Yes/No)'].unique() "
   ]
  },
  {
   "cell_type": "code",
   "execution_count": 10,
   "id": "32edc913",
   "metadata": {},
   "outputs": [
    {
     "data": {
      "text/plain": [
       "array([2, 1, 0, 3, 4, 5, 6])"
      ]
     },
     "execution_count": 10,
     "metadata": {},
     "output_type": "execute_result"
    }
   ],
   "source": [
    "df_train['Application  Sourcing Channel']= label_encoder.fit_transform(df_train['Application  Sourcing Channel']) \n",
    "df_train['Application  Sourcing Channel'].unique()"
   ]
  },
  {
   "cell_type": "code",
   "execution_count": 11,
   "id": "e72c8962",
   "metadata": {},
   "outputs": [
    {
     "data": {
      "text/plain": [
       "array([ 1, 10,  6, 11,  2,  9, 12,  4,  7,  0,  8,  5,  3, 13])"
      ]
     },
     "execution_count": 11,
     "metadata": {},
     "output_type": "execute_result"
    }
   ],
   "source": [
    "df_train['Application  Life Assured City']= label_encoder.fit_transform(df_train['Application  Life Assured City']) \n",
    "df_train['Application  Life Assured City'].unique()"
   ]
  },
  {
   "cell_type": "code",
   "execution_count": 12,
   "id": "7b7caea4",
   "metadata": {},
   "outputs": [
    {
     "data": {
      "text/plain": [
       "array([0, 2, 1])"
      ]
     },
     "execution_count": 12,
     "metadata": {},
     "output_type": "execute_result"
    }
   ],
   "source": [
    "df_train['Application  Life Assured City Tier']= label_encoder.fit_transform(df_train['Application  Life Assured City Tier']) \n",
    "df_train['Application  Life Assured City Tier'].unique() "
   ]
  },
  {
   "cell_type": "code",
   "execution_count": 13,
   "id": "28cc85d8",
   "metadata": {},
   "outputs": [
    {
     "data": {
      "text/plain": [
       "array([ 4,  1,  0, 11,  6,  2,  3, 12,  7,  8,  5,  9, 10])"
      ]
     },
     "execution_count": 13,
     "metadata": {},
     "output_type": "execute_result"
    }
   ],
   "source": [
    "df_train['Application  Life Assured Education']= label_encoder.fit_transform(df_train['Application  Life Assured Education']) \n",
    "df_train['Application  Life Assured Education'].unique() "
   ]
  },
  {
   "cell_type": "code",
   "execution_count": 14,
   "id": "a9c27058",
   "metadata": {},
   "outputs": [
    {
     "data": {
      "text/plain": [
       "array([0, 1])"
      ]
     },
     "execution_count": 14,
     "metadata": {},
     "output_type": "execute_result"
    }
   ],
   "source": [
    "df_train['Application  Life Assured Gender']= label_encoder.fit_transform(df_train['Application  Life Assured Gender']) \n",
    "df_train['Application  Life Assured Gender'].unique()"
   ]
  },
  {
   "cell_type": "code",
   "execution_count": 15,
   "id": "8f631c9a",
   "metadata": {},
   "outputs": [
    {
     "data": {
      "text/plain": [
       "array([ 9, 10,  7,  8,  3,  2,  6,  1,  0,  4,  5])"
      ]
     },
     "execution_count": 15,
     "metadata": {},
     "output_type": "execute_result"
    }
   ],
   "source": [
    "df_train['Application  Life Assured Industry']= label_encoder.fit_transform(df_train['Application  Life Assured Industry']) \n",
    "df_train['Application  Life Assured Industry'].unique()"
   ]
  },
  {
   "cell_type": "code",
   "execution_count": 16,
   "id": "c0e7bdf7",
   "metadata": {},
   "outputs": [
    {
     "data": {
      "text/plain": [
       "array([2, 1, 3, 0])"
      ]
     },
     "execution_count": 16,
     "metadata": {},
     "output_type": "execute_result"
    }
   ],
   "source": [
    "df_train['Application  Life Assured Marital Status']= label_encoder.fit_transform(df_train['Application  Life Assured Marital Status']) \n",
    "df_train['Application  Life Assured Marital Status'].unique() "
   ]
  },
  {
   "cell_type": "code",
   "execution_count": 17,
   "id": "43e6ea3a",
   "metadata": {},
   "outputs": [
    {
     "data": {
      "text/plain": [
       "array([3, 4, 0, 2, 5, 6, 1])"
      ]
     },
     "execution_count": 17,
     "metadata": {},
     "output_type": "execute_result"
    }
   ],
   "source": [
    "df_train['Application  Life Assured Occupation']= label_encoder.fit_transform(df_train['Application  Life Assured Occupation']) \n",
    "df_train['Application  Life Assured Occupation'].unique() "
   ]
  },
  {
   "cell_type": "code",
   "execution_count": 18,
   "id": "d0d8870e",
   "metadata": {},
   "outputs": [
    {
     "data": {
      "text/plain": [
       "array([0, 1, 2])"
      ]
     },
     "execution_count": 18,
     "metadata": {},
     "output_type": "execute_result"
    }
   ],
   "source": [
    "df_train[\"Applicant's Policy PAR/NON PAR/ULIP Tag\"]= label_encoder.fit_transform(df_train[\"Applicant's Policy PAR/NON PAR/ULIP Tag\"]) \n",
    "df_train[\"Applicant's Policy PAR/NON PAR/ULIP Tag\"].unique() "
   ]
  },
  {
   "cell_type": "code",
   "execution_count": 19,
   "id": "db3a9371",
   "metadata": {},
   "outputs": [
    {
     "data": {
      "text/plain": [
       "array([ 44,  46,  70,  80,  29,  95,  78,  73,  39,   9,  57,  45,  49,\n",
       "        31,  85, 111, 122,  14,  90, 115,  12,   7,  10,  18,  24,  91,\n",
       "        66,  51,  19, 109,   8, 102, 114,  77,  83,  22,  88, 108,  96,\n",
       "        67,  41,  84,   3,  30, 107,  52,  20,  21, 116,  42,  47, 120,\n",
       "        58,   0,  64, 118, 112,  94,  28, 110,  75,  36,  62,  74, 113,\n",
       "       125, 121,  48,  65, 106, 103,  60,   6,  93,  71,  55, 119,  59,\n",
       "       117,   4,  15,  27,  50,  11,   5, 124,  82,  54,  79,  16,  43,\n",
       "        26,  53, 105,  86,  33,  97, 101, 104, 123,  72,  37,  25,  63,\n",
       "        87,  92,  99,  56,  23,  61,  40,  35,  69,  34,   1,  89,  76,\n",
       "        68,   2, 100,  32,  81,  98,  17,  38,  13])"
      ]
     },
     "execution_count": 19,
     "metadata": {},
     "output_type": "execute_result"
    }
   ],
   "source": [
    "df_train['Application Specific Sourcing Partner']= label_encoder.fit_transform(df_train['Application Specific Sourcing Partner']) \n",
    "df_train['Application Specific Sourcing Partner'].unique() "
   ]
  },
  {
   "cell_type": "code",
   "execution_count": 20,
   "id": "0333cfc5",
   "metadata": {},
   "outputs": [
    {
     "data": {
      "text/plain": [
       "array([4, 6, 1, 3, 7, 5, 8, 2, 0])"
      ]
     },
     "execution_count": 20,
     "metadata": {},
     "output_type": "execute_result"
    }
   ],
   "source": [
    "df_train['First Premium Payment Type']= label_encoder.fit_transform(df_train['First Premium Payment Type']) \n",
    "df_train['First Premium Payment Type'].unique() "
   ]
  },
  {
   "cell_type": "code",
   "execution_count": 21,
   "id": "03385695",
   "metadata": {},
   "outputs": [
    {
     "data": {
      "text/plain": [
       "array([2, 3, 1, 0])"
      ]
     },
     "execution_count": 21,
     "metadata": {},
     "output_type": "execute_result"
    }
   ],
   "source": [
    "df_train[\"Applicant's Policy Product Category\"]= label_encoder.fit_transform(df_train[\"Applicant's Policy Product Category\"]) \n",
    "df_train[\"Applicant's Policy Product Category\"].unique() "
   ]
  },
  {
   "cell_type": "code",
   "execution_count": 22,
   "id": "4a9cb41c",
   "metadata": {},
   "outputs": [
    {
     "data": {
      "text/plain": [
       "array([0, 2, 1, 3])"
      ]
     },
     "execution_count": 22,
     "metadata": {},
     "output_type": "execute_result"
    }
   ],
   "source": [
    "df_train[\"Applicant's Policy Premium Payment Frequency\"]= label_encoder.fit_transform(df_train[\"Applicant's Policy Premium Payment Frequency\"]) \n",
    "df_train[\"Applicant's Policy Premium Payment Frequency\"].unique() "
   ]
  },
  {
   "cell_type": "code",
   "execution_count": 23,
   "id": "ead82d21",
   "metadata": {},
   "outputs": [
    {
     "data": {
      "text/plain": [
       "array([ 2,  7, 14,  4, 16,  1, 15, 17, 13,  6,  8, 10,  3,  9, 18,  5,  0,\n",
       "       12, 11])"
      ]
     },
     "execution_count": 23,
     "metadata": {},
     "output_type": "execute_result"
    }
   ],
   "source": [
    "df_train[\"Applicant's Policy Product Name\"]= label_encoder.fit_transform(df_train[\"Applicant's Policy Product Name\"]) \n",
    "df_train[\"Applicant's Policy Product Name\"].unique()"
   ]
  },
  {
   "cell_type": "code",
   "execution_count": 24,
   "id": "71119c15",
   "metadata": {},
   "outputs": [
    {
     "data": {
      "text/plain": [
       "array([1, 0])"
      ]
     },
     "execution_count": 24,
     "metadata": {},
     "output_type": "execute_result"
    }
   ],
   "source": [
    "df_train['Application Life Assured Residential Status']= label_encoder.fit_transform(df_train['Application Life Assured Residential Status']) \n",
    "df_train['Application Life Assured Residential Status'].unique()"
   ]
  },
  {
   "cell_type": "code",
   "execution_count": 25,
   "id": "655958a9",
   "metadata": {},
   "outputs": [
    {
     "data": {
      "text/plain": [
       "array([ 3,  1,  8,  6,  5,  9,  4,  7, 10, 12,  0,  2, 11])"
      ]
     },
     "execution_count": 25,
     "metadata": {},
     "output_type": "execute_result"
    }
   ],
   "source": [
    "df_train['Application Life Assured State']= label_encoder.fit_transform(df_train['Application Life Assured State']) \n",
    "df_train['Application Life Assured State'].unique() "
   ]
  },
  {
   "cell_type": "code",
   "execution_count": 26,
   "id": "f3df9464",
   "metadata": {},
   "outputs": [
    {
     "data": {
      "text/plain": [
       "array([1, 3, 0, 2, 7, 6, 4, 5])"
      ]
     },
     "execution_count": 26,
     "metadata": {},
     "output_type": "execute_result"
    }
   ],
   "source": [
    "df_train['Application Sourcing Sub Channel']= label_encoder.fit_transform(df_train['Application Sourcing Sub Channel']) \n",
    "df_train['Application Sourcing Sub Channel'].unique() "
   ]
  },
  {
   "cell_type": "code",
   "execution_count": 27,
   "id": "419be6fa",
   "metadata": {},
   "outputs": [
    {
     "data": {
      "text/plain": [
       "array([1, 5, 2, 3, 4, 0])"
      ]
     },
     "execution_count": 27,
     "metadata": {},
     "output_type": "execute_result"
    }
   ],
   "source": [
    "df_train['HDFC Life Operational Zone']= label_encoder.fit_transform(df_train['HDFC Life Operational Zone']) \n",
    "df_train['HDFC Life Operational Zone'].unique() "
   ]
  },
  {
   "cell_type": "code",
   "execution_count": 28,
   "id": "b4ba5855",
   "metadata": {},
   "outputs": [
    {
     "data": {
      "text/plain": [
       "array([ 4,  0,  6, 10,  9,  3,  2,  7,  5,  8,  1])"
      ]
     },
     "execution_count": 28,
     "metadata": {},
     "output_type": "execute_result"
    }
   ],
   "source": [
    "df_train['Mapped Agent city']= label_encoder.fit_transform(df_train['Mapped Agent city']) \n",
    "df_train['Mapped Agent city'].unique() "
   ]
  },
  {
   "cell_type": "code",
   "execution_count": 29,
   "id": "5e1625f5",
   "metadata": {},
   "outputs": [
    {
     "data": {
      "text/plain": [
       "array([ 4,  0,  8, 10, 13, 11,  3,  2,  5,  9,  6,  7,  1, 12])"
      ]
     },
     "execution_count": 29,
     "metadata": {},
     "output_type": "execute_result"
    }
   ],
   "source": [
    "df_train[\"Applicant's Policy Contract city\"]= label_encoder.fit_transform(df_train[\"Applicant's Policy Contract city\"]) \n",
    "df_train[\"Applicant's Policy Contract city\"].unique() "
   ]
  },
  {
   "cell_type": "code",
   "execution_count": 30,
   "id": "e0d5873a",
   "metadata": {},
   "outputs": [
    {
     "data": {
      "text/plain": [
       "array([3, 1, 2, 0])"
      ]
     },
     "execution_count": 30,
     "metadata": {},
     "output_type": "execute_result"
    }
   ],
   "source": [
    "df_train[\"Application  Life Assured Age\"]= label_encoder.fit_transform(df_train[\"Application  Life Assured Age\"]) \n",
    "df_train[\"Application  Life Assured Age\"].unique()"
   ]
  },
  {
   "cell_type": "code",
   "execution_count": 31,
   "id": "162dc454",
   "metadata": {},
   "outputs": [
    {
     "data": {
      "text/plain": [
       "array([0, 3, 2, 1])"
      ]
     },
     "execution_count": 31,
     "metadata": {},
     "output_type": "execute_result"
    }
   ],
   "source": [
    "df_train[\"smoker_drinker\"]= label_encoder.fit_transform(df_train[\"smoker_drinker\"]) \n",
    "df_train[\"smoker_drinker\"].unique()"
   ]
  },
  {
   "cell_type": "code",
   "execution_count": 32,
   "id": "1fbe4849",
   "metadata": {},
   "outputs": [],
   "source": [
    "df_train = df_train.drop('Perf+vintage', axis = 1)"
   ]
  },
  {
   "cell_type": "code",
   "execution_count": 33,
   "id": "f6e5966c",
   "metadata": {},
   "outputs": [],
   "source": [
    "df_train_1 = df_train.copy()"
   ]
  },
  {
   "cell_type": "code",
   "execution_count": 35,
   "id": "44685047",
   "metadata": {},
   "outputs": [
    {
     "data": {
      "text/plain": [
       "StandardScaler()"
      ]
     },
     "execution_count": 35,
     "metadata": {},
     "output_type": "execute_result"
    }
   ],
   "source": [
    "scaler = StandardScaler()\n",
    "scaler.fit(df_train_1)"
   ]
  },
  {
   "cell_type": "code",
   "execution_count": 36,
   "id": "315d44cc",
   "metadata": {},
   "outputs": [],
   "source": [
    "df_train_1 = scaler.transform(df_train_1)"
   ]
  },
  {
   "cell_type": "markdown",
   "id": "42d828a8",
   "metadata": {},
   "source": [
    "# 4. Principal Component Analysis Model\n",
    "\n",
    "* Principal component analysis (PCA) is a technique used to reduce the dimensionality of such datasets, boosting interpretability while minimising information loss. It accomplishes this by generating new uncorrelated variables that gradually optimise variance.\n",
    "* Principal Component Analysis, or PCA, is a dimensionality-reduction approach that is frequently used to decrease the dimensionality of big data sets by reducing a large collection of variables into a smaller set that retains the majority of the information in the large set.\n",
    "* PCA is based on mathematics.\n",
    "  * Take the entire dataset with d+1 dimensions and remove the labels, resulting in a d dimensional dataset.\n",
    "  * Calculate the mean for each dimension of the whole dataset.\n",
    "  * Calculate the covariance matrix for the entire dataset.\n",
    "  * Compute the eigenvectors and eigenvalues.\n",
    "* Principal components are formed in the order in which they capture the most variance: PC1 catches the most variation, PC2 captures the second most, and so on. Each of them provides some data information, and there are as many principle components as there are features in a PCA."
   ]
  },
  {
   "cell_type": "code",
   "execution_count": 37,
   "id": "8cdff5d6",
   "metadata": {},
   "outputs": [],
   "source": [
    "from sklearn.decomposition import PCA"
   ]
  },
  {
   "cell_type": "code",
   "execution_count": 38,
   "id": "849c2939",
   "metadata": {},
   "outputs": [],
   "source": [
    "pca = PCA(n_components=4)"
   ]
  },
  {
   "cell_type": "code",
   "execution_count": 39,
   "id": "798b0a8a",
   "metadata": {},
   "outputs": [
    {
     "data": {
      "text/plain": [
       "PCA(n_components=4)"
      ]
     },
     "execution_count": 39,
     "metadata": {},
     "output_type": "execute_result"
    }
   ],
   "source": [
    "pca.fit(df_train_1)"
   ]
  },
  {
   "cell_type": "code",
   "execution_count": 40,
   "id": "5cce6fdb",
   "metadata": {},
   "outputs": [],
   "source": [
    "x_pca = pca.transform(df_train_1)"
   ]
  },
  {
   "cell_type": "markdown",
   "id": "788b6eea",
   "metadata": {},
   "source": [
    "The transform technique transforms all of the characteristics based on their mean and variance. Now, we want scaling to be applied to our test data as well, but we don't want our model to be biassed. We want our test data to be an entirely fresh and unexpected collection for our model."
   ]
  },
  {
   "cell_type": "code",
   "execution_count": 45,
   "id": "839a6042",
   "metadata": {},
   "outputs": [
    {
     "data": {
      "text/plain": [
       "Text(0, 0.5, 'Second Principal Component')"
      ]
     },
     "execution_count": 45,
     "metadata": {},
     "output_type": "execute_result"
    },
    {
     "data": {
      "image/png": "[encoded data removed]",
      "text/plain": [
       "<Figure size 1080x576 with 1 Axes>"
      ]
     },
     "metadata": {},
     "output_type": "display_data"
    }
   ],
   "source": [
    "plt.figure(figsize=(15,8))\n",
    "plt.scatter(x_pca[:,0],x_pca[:,1],c=df_train['Target'],cmap='plasma')\n",
    "plt.xlabel('First principal component')\n",
    "plt.ylabel('Second Principal Component')"
   ]
  },
  {
   "cell_type": "code",
   "execution_count": 46,
   "id": "ceaf990f",
   "metadata": {},
   "outputs": [
    {
     "data": {
      "text/html": [
       "<div>\n",
       "<style scoped>\n",
       "    .dataframe tbody tr th:only-of-type {\n",
       "        vertical-align: middle;\n",
       "    }\n",
       "\n",
       "    .dataframe tbody tr th {\n",
       "        vertical-align: top;\n",
       "    }\n",
       "\n",
       "    .dataframe thead th {\n",
       "        text-align: right;\n",
       "    }\n",
       "</style>\n",
       "<table border=\"1\" class=\"dataframe\">\n",
       "  <thead>\n",
       "    <tr style=\"text-align: right;\">\n",
       "      <th></th>\n",
       "      <th>Mapped Agent 13M Persistency</th>\n",
       "      <th>Applicant's Policy Annualized Premium</th>\n",
       "      <th>Mapped Agent Vintage</th>\n",
       "      <th>Auto Debit of Premium Opted Flag(Yes/No)</th>\n",
       "      <th>Application Life Assured BMI</th>\n",
       "      <th>Total Risk Exposure of HDFC Life w.r.t. Life Assured</th>\n",
       "      <th>Application  Sourcing Channel</th>\n",
       "      <th>Application  Life Assured City</th>\n",
       "      <th>Application  Life Assured City Tier</th>\n",
       "      <th>Application  Life Assured Age</th>\n",
       "      <th>...</th>\n",
       "      <th>Application Sourcing Sub Channel</th>\n",
       "      <th>Applicant's Policy Sum Assured</th>\n",
       "      <th>HDFC Life Operational Zone</th>\n",
       "      <th>Application Login year</th>\n",
       "      <th>Application Login month</th>\n",
       "      <th>Application Login day</th>\n",
       "      <th>Mapped Agent city</th>\n",
       "      <th>Applicant's Policy Contract city</th>\n",
       "      <th>Target</th>\n",
       "      <th>smoker_drinker</th>\n",
       "    </tr>\n",
       "  </thead>\n",
       "  <tbody>\n",
       "    <tr>\n",
       "      <th>0</th>\n",
       "      <td>0.012756</td>\n",
       "      <td>0.008479</td>\n",
       "      <td>-0.034121</td>\n",
       "      <td>-0.012765</td>\n",
       "      <td>0.036669</td>\n",
       "      <td>0.294260</td>\n",
       "      <td>0.086860</td>\n",
       "      <td>-0.108345</td>\n",
       "      <td>-0.155918</td>\n",
       "      <td>-0.004817</td>\n",
       "      <td>...</td>\n",
       "      <td>0.210186</td>\n",
       "      <td>0.373010</td>\n",
       "      <td>0.116988</td>\n",
       "      <td>-0.001788</td>\n",
       "      <td>0.017133</td>\n",
       "      <td>0.000918</td>\n",
       "      <td>-0.150347</td>\n",
       "      <td>-0.143759</td>\n",
       "      <td>0.005982</td>\n",
       "      <td>0.107931</td>\n",
       "    </tr>\n",
       "    <tr>\n",
       "      <th>1</th>\n",
       "      <td>0.047400</td>\n",
       "      <td>0.231326</td>\n",
       "      <td>0.025403</td>\n",
       "      <td>0.055738</td>\n",
       "      <td>0.013409</td>\n",
       "      <td>-0.013707</td>\n",
       "      <td>-0.093385</td>\n",
       "      <td>-0.421509</td>\n",
       "      <td>-0.388756</td>\n",
       "      <td>0.002046</td>\n",
       "      <td>...</td>\n",
       "      <td>-0.091899</td>\n",
       "      <td>-0.047407</td>\n",
       "      <td>0.076210</td>\n",
       "      <td>-0.024298</td>\n",
       "      <td>0.000666</td>\n",
       "      <td>0.024158</td>\n",
       "      <td>-0.402037</td>\n",
       "      <td>-0.427330</td>\n",
       "      <td>0.079575</td>\n",
       "      <td>-0.029214</td>\n",
       "    </tr>\n",
       "    <tr>\n",
       "      <th>2</th>\n",
       "      <td>0.066413</td>\n",
       "      <td>0.365273</td>\n",
       "      <td>0.158753</td>\n",
       "      <td>0.277102</td>\n",
       "      <td>-0.003667</td>\n",
       "      <td>0.301968</td>\n",
       "      <td>-0.158205</td>\n",
       "      <td>0.119447</td>\n",
       "      <td>0.026226</td>\n",
       "      <td>-0.135836</td>\n",
       "      <td>...</td>\n",
       "      <td>-0.179962</td>\n",
       "      <td>0.292914</td>\n",
       "      <td>0.096077</td>\n",
       "      <td>-0.106597</td>\n",
       "      <td>0.106410</td>\n",
       "      <td>0.048819</td>\n",
       "      <td>0.254785</td>\n",
       "      <td>0.233764</td>\n",
       "      <td>0.283843</td>\n",
       "      <td>-0.009411</td>\n",
       "    </tr>\n",
       "    <tr>\n",
       "      <th>3</th>\n",
       "      <td>-0.052496</td>\n",
       "      <td>0.009720</td>\n",
       "      <td>-0.025747</td>\n",
       "      <td>-0.449762</td>\n",
       "      <td>-0.032329</td>\n",
       "      <td>0.175979</td>\n",
       "      <td>-0.222266</td>\n",
       "      <td>-0.069654</td>\n",
       "      <td>0.048397</td>\n",
       "      <td>-0.115995</td>\n",
       "      <td>...</td>\n",
       "      <td>-0.205666</td>\n",
       "      <td>0.184110</td>\n",
       "      <td>-0.148061</td>\n",
       "      <td>-0.094024</td>\n",
       "      <td>0.014042</td>\n",
       "      <td>-0.004592</td>\n",
       "      <td>-0.111672</td>\n",
       "      <td>-0.124458</td>\n",
       "      <td>-0.404897</td>\n",
       "      <td>0.177303</td>\n",
       "    </tr>\n",
       "  </tbody>\n",
       "</table>\n",
       "<p>4 rows × 37 columns</p>\n",
       "</div>"
      ],
      "text/plain": [
       "   Mapped Agent 13M Persistency  Applicant's Policy Annualized Premium  \\\n",
       "0                      0.012756                               0.008479   \n",
       "1                      0.047400                               0.231326   \n",
       "2                      0.066413                               0.365273   \n",
       "3                     -0.052496                               0.009720   \n",
       "\n",
       "   Mapped Agent Vintage  Auto Debit of Premium Opted Flag(Yes/No)  \\\n",
       "0             -0.034121                                 -0.012765   \n",
       "1              0.025403                                  0.055738   \n",
       "2              0.158753                                  0.277102   \n",
       "3             -0.025747                                 -0.449762   \n",
       "\n",
       "   Application Life Assured BMI  \\\n",
       "0                      0.036669   \n",
       "1                      0.013409   \n",
       "2                     -0.003667   \n",
       "3                     -0.032329   \n",
       "\n",
       "   Total Risk Exposure of HDFC Life w.r.t. Life Assured  \\\n",
       "0                                           0.294260      \n",
       "1                                          -0.013707      \n",
       "2                                           0.301968      \n",
       "3                                           0.175979      \n",
       "\n",
       "   Application  Sourcing Channel  Application  Life Assured City  \\\n",
       "0                       0.086860                       -0.108345   \n",
       "1                      -0.093385                       -0.421509   \n",
       "2                      -0.158205                        0.119447   \n",
       "3                      -0.222266                       -0.069654   \n",
       "\n",
       "   Application  Life Assured City Tier  Application  Life Assured Age  ...  \\\n",
       "0                            -0.155918                      -0.004817  ...   \n",
       "1                            -0.388756                       0.002046  ...   \n",
       "2                             0.026226                      -0.135836  ...   \n",
       "3                             0.048397                      -0.115995  ...   \n",
       "\n",
       "   Application Sourcing Sub Channel  Applicant's Policy Sum Assured  \\\n",
       "0                          0.210186                        0.373010   \n",
       "1                         -0.091899                       -0.047407   \n",
       "2                         -0.179962                        0.292914   \n",
       "3                         -0.205666                        0.184110   \n",
       "\n",
       "   HDFC Life Operational Zone  Application Login year  \\\n",
       "0                    0.116988               -0.001788   \n",
       "1                    0.076210               -0.024298   \n",
       "2                    0.096077               -0.106597   \n",
       "3                   -0.148061               -0.094024   \n",
       "\n",
       "   Application Login month  Application Login day  Mapped Agent city  \\\n",
       "0                 0.017133               0.000918          -0.150347   \n",
       "1                 0.000666               0.024158          -0.402037   \n",
       "2                 0.106410               0.048819           0.254785   \n",
       "3                 0.014042              -0.004592          -0.111672   \n",
       "\n",
       "   Applicant's Policy Contract city    Target  smoker_drinker  \n",
       "0                         -0.143759  0.005982        0.107931  \n",
       "1                         -0.427330  0.079575       -0.029214  \n",
       "2                          0.233764  0.283843       -0.009411  \n",
       "3                         -0.124458 -0.404897        0.177303  \n",
       "\n",
       "[4 rows x 37 columns]"
      ]
     },
     "execution_count": 46,
     "metadata": {},
     "output_type": "execute_result"
    }
   ],
   "source": [
    "df_train_comp = pd.DataFrame(pca.components_, columns = df_train.columns)\n",
    "df_train_comp.head()"
   ]
  },
  {
   "cell_type": "code",
   "execution_count": 47,
   "id": "fce4958b",
   "metadata": {},
   "outputs": [
    {
     "data": {
      "text/plain": [
       "<AxesSubplot:>"
      ]
     },
     "execution_count": 47,
     "metadata": {},
     "output_type": "execute_result"
    },
    {
     "data": {
      "image/png": "[encoded data removed]",
      "text/plain": [
       "<Figure size 1080x576 with 2 Axes>"
      ]
     },
     "metadata": {},
     "output_type": "display_data"
    }
   ],
   "source": [
    "plt.figure(figsize=(15,8))\n",
    "sns.heatmap(df_train_comp, cmap='plasma',)"
   ]
  },
  {
   "cell_type": "code",
   "execution_count": 48,
   "id": "cbc54505",
   "metadata": {},
   "outputs": [],
   "source": [
    "df_train_2 = df_train_comp.T"
   ]
  },
  {
   "cell_type": "code",
   "execution_count": 49,
   "id": "8f1fca35",
   "metadata": {},
   "outputs": [
    {
     "data": {
      "text/html": [
       "<div>\n",
       "<style scoped>\n",
       "    .dataframe tbody tr th:only-of-type {\n",
       "        vertical-align: middle;\n",
       "    }\n",
       "\n",
       "    .dataframe tbody tr th {\n",
       "        vertical-align: top;\n",
       "    }\n",
       "\n",
       "    .dataframe thead th {\n",
       "        text-align: right;\n",
       "    }\n",
       "</style>\n",
       "<table border=\"1\" class=\"dataframe\">\n",
       "  <thead>\n",
       "    <tr style=\"text-align: right;\">\n",
       "      <th></th>\n",
       "      <th>PC1</th>\n",
       "      <th>PC2</th>\n",
       "      <th>PC3</th>\n",
       "      <th>PC4</th>\n",
       "    </tr>\n",
       "  </thead>\n",
       "  <tbody>\n",
       "    <tr>\n",
       "      <th>Mapped Agent 13M Persistency</th>\n",
       "      <td>0.012756</td>\n",
       "      <td>0.047400</td>\n",
       "      <td>0.066413</td>\n",
       "      <td>-0.052496</td>\n",
       "    </tr>\n",
       "    <tr>\n",
       "      <th>Applicant's Policy Annualized Premium</th>\n",
       "      <td>0.008479</td>\n",
       "      <td>0.231326</td>\n",
       "      <td>0.365273</td>\n",
       "      <td>0.009720</td>\n",
       "    </tr>\n",
       "    <tr>\n",
       "      <th>Mapped Agent Vintage</th>\n",
       "      <td>-0.034121</td>\n",
       "      <td>0.025403</td>\n",
       "      <td>0.158753</td>\n",
       "      <td>-0.025747</td>\n",
       "    </tr>\n",
       "    <tr>\n",
       "      <th>Auto Debit of Premium Opted Flag(Yes/No)</th>\n",
       "      <td>-0.012765</td>\n",
       "      <td>0.055738</td>\n",
       "      <td>0.277102</td>\n",
       "      <td>-0.449762</td>\n",
       "    </tr>\n",
       "    <tr>\n",
       "      <th>Application Life Assured BMI</th>\n",
       "      <td>0.036669</td>\n",
       "      <td>0.013409</td>\n",
       "      <td>-0.003667</td>\n",
       "      <td>-0.032329</td>\n",
       "    </tr>\n",
       "    <tr>\n",
       "      <th>Total Risk Exposure of HDFC Life w.r.t. Life Assured</th>\n",
       "      <td>0.294260</td>\n",
       "      <td>-0.013707</td>\n",
       "      <td>0.301968</td>\n",
       "      <td>0.175979</td>\n",
       "    </tr>\n",
       "    <tr>\n",
       "      <th>Application  Sourcing Channel</th>\n",
       "      <td>0.086860</td>\n",
       "      <td>-0.093385</td>\n",
       "      <td>-0.158205</td>\n",
       "      <td>-0.222266</td>\n",
       "    </tr>\n",
       "    <tr>\n",
       "      <th>Application  Life Assured City</th>\n",
       "      <td>-0.108345</td>\n",
       "      <td>-0.421509</td>\n",
       "      <td>0.119447</td>\n",
       "      <td>-0.069654</td>\n",
       "    </tr>\n",
       "    <tr>\n",
       "      <th>Application  Life Assured City Tier</th>\n",
       "      <td>-0.155918</td>\n",
       "      <td>-0.388756</td>\n",
       "      <td>0.026226</td>\n",
       "      <td>0.048397</td>\n",
       "    </tr>\n",
       "    <tr>\n",
       "      <th>Application  Life Assured Age</th>\n",
       "      <td>-0.004817</td>\n",
       "      <td>0.002046</td>\n",
       "      <td>-0.135836</td>\n",
       "      <td>-0.115995</td>\n",
       "    </tr>\n",
       "    <tr>\n",
       "      <th>Application  Life Assured Education</th>\n",
       "      <td>0.034240</td>\n",
       "      <td>0.075951</td>\n",
       "      <td>-0.018518</td>\n",
       "      <td>0.003350</td>\n",
       "    </tr>\n",
       "    <tr>\n",
       "      <th>Application  Life Assured Gender</th>\n",
       "      <td>0.032414</td>\n",
       "      <td>-0.112513</td>\n",
       "      <td>-0.016807</td>\n",
       "      <td>0.163821</td>\n",
       "    </tr>\n",
       "    <tr>\n",
       "      <th>Application  Life Assured Income</th>\n",
       "      <td>0.114612</td>\n",
       "      <td>0.151261</td>\n",
       "      <td>0.340856</td>\n",
       "      <td>0.072035</td>\n",
       "    </tr>\n",
       "    <tr>\n",
       "      <th>Application  Life Assured Industry</th>\n",
       "      <td>0.094432</td>\n",
       "      <td>0.125303</td>\n",
       "      <td>0.072893</td>\n",
       "      <td>-0.059192</td>\n",
       "    </tr>\n",
       "    <tr>\n",
       "      <th>Application  Life Assured Marital Status</th>\n",
       "      <td>0.020728</td>\n",
       "      <td>0.022355</td>\n",
       "      <td>-0.086814</td>\n",
       "      <td>-0.092301</td>\n",
       "    </tr>\n",
       "    <tr>\n",
       "      <th>Application  Life Assured Occupation</th>\n",
       "      <td>0.051489</td>\n",
       "      <td>0.116132</td>\n",
       "      <td>0.081099</td>\n",
       "      <td>-0.065039</td>\n",
       "    </tr>\n",
       "    <tr>\n",
       "      <th>Applicant's Policy PAR/NON PAR/ULIP Tag</th>\n",
       "      <td>-0.406996</td>\n",
       "      <td>0.173181</td>\n",
       "      <td>0.111659</td>\n",
       "      <td>0.089917</td>\n",
       "    </tr>\n",
       "    <tr>\n",
       "      <th>Application Specific Sourcing Partner</th>\n",
       "      <td>0.147531</td>\n",
       "      <td>-0.051108</td>\n",
       "      <td>-0.179284</td>\n",
       "      <td>-0.212687</td>\n",
       "    </tr>\n",
       "    <tr>\n",
       "      <th>First Premium Payment Type</th>\n",
       "      <td>-0.013769</td>\n",
       "      <td>-0.060008</td>\n",
       "      <td>-0.101562</td>\n",
       "      <td>0.247782</td>\n",
       "    </tr>\n",
       "    <tr>\n",
       "      <th>Applicant's Policy Product Category</th>\n",
       "      <td>0.236616</td>\n",
       "      <td>-0.095876</td>\n",
       "      <td>-0.222502</td>\n",
       "      <td>-0.224706</td>\n",
       "    </tr>\n",
       "    <tr>\n",
       "      <th>Applicant's Policy Premium Payment Frequency</th>\n",
       "      <td>0.063277</td>\n",
       "      <td>0.034052</td>\n",
       "      <td>0.054508</td>\n",
       "      <td>-0.064120</td>\n",
       "    </tr>\n",
       "    <tr>\n",
       "      <th>Applicant's Policy Product Name</th>\n",
       "      <td>-0.064558</td>\n",
       "      <td>-0.089297</td>\n",
       "      <td>0.108216</td>\n",
       "      <td>0.158689</td>\n",
       "    </tr>\n",
       "    <tr>\n",
       "      <th>Applicant's Policy Price Sensitivity(1-'Yes', 0-'No')</th>\n",
       "      <td>0.412117</td>\n",
       "      <td>-0.171767</td>\n",
       "      <td>0.040152</td>\n",
       "      <td>0.077240</td>\n",
       "    </tr>\n",
       "    <tr>\n",
       "      <th>Application Life Assured Residential Status</th>\n",
       "      <td>-0.001939</td>\n",
       "      <td>-0.008362</td>\n",
       "      <td>-0.008739</td>\n",
       "      <td>0.079744</td>\n",
       "    </tr>\n",
       "    <tr>\n",
       "      <th>Applicant's Policy Risk Cessation Term</th>\n",
       "      <td>0.403518</td>\n",
       "      <td>-0.170406</td>\n",
       "      <td>-0.010301</td>\n",
       "      <td>0.017579</td>\n",
       "    </tr>\n",
       "    <tr>\n",
       "      <th>Applicant's Policy Rider Opted Flag(1-'Yes', 0-'No')</th>\n",
       "      <td>0.010907</td>\n",
       "      <td>-0.074059</td>\n",
       "      <td>0.025953</td>\n",
       "      <td>0.316710</td>\n",
       "    </tr>\n",
       "    <tr>\n",
       "      <th>Application Life Assured State</th>\n",
       "      <td>-0.052228</td>\n",
       "      <td>-0.209446</td>\n",
       "      <td>0.004866</td>\n",
       "      <td>0.076736</td>\n",
       "    </tr>\n",
       "    <tr>\n",
       "      <th>Application Sourcing Sub Channel</th>\n",
       "      <td>0.210186</td>\n",
       "      <td>-0.091899</td>\n",
       "      <td>-0.179962</td>\n",
       "      <td>-0.205666</td>\n",
       "    </tr>\n",
       "    <tr>\n",
       "      <th>Applicant's Policy Sum Assured</th>\n",
       "      <td>0.373010</td>\n",
       "      <td>-0.047407</td>\n",
       "      <td>0.292914</td>\n",
       "      <td>0.184110</td>\n",
       "    </tr>\n",
       "    <tr>\n",
       "      <th>HDFC Life Operational Zone</th>\n",
       "      <td>0.116988</td>\n",
       "      <td>0.076210</td>\n",
       "      <td>0.096077</td>\n",
       "      <td>-0.148061</td>\n",
       "    </tr>\n",
       "    <tr>\n",
       "      <th>Application Login year</th>\n",
       "      <td>-0.001788</td>\n",
       "      <td>-0.024298</td>\n",
       "      <td>-0.106597</td>\n",
       "      <td>-0.094024</td>\n",
       "    </tr>\n",
       "    <tr>\n",
       "      <th>Application Login month</th>\n",
       "      <td>0.017133</td>\n",
       "      <td>0.000666</td>\n",
       "      <td>0.106410</td>\n",
       "      <td>0.014042</td>\n",
       "    </tr>\n",
       "    <tr>\n",
       "      <th>Application Login day</th>\n",
       "      <td>0.000918</td>\n",
       "      <td>0.024158</td>\n",
       "      <td>0.048819</td>\n",
       "      <td>-0.004592</td>\n",
       "    </tr>\n",
       "    <tr>\n",
       "      <th>Mapped Agent city</th>\n",
       "      <td>-0.150347</td>\n",
       "      <td>-0.402037</td>\n",
       "      <td>0.254785</td>\n",
       "      <td>-0.111672</td>\n",
       "    </tr>\n",
       "    <tr>\n",
       "      <th>Applicant's Policy Contract city</th>\n",
       "      <td>-0.143759</td>\n",
       "      <td>-0.427330</td>\n",
       "      <td>0.233764</td>\n",
       "      <td>-0.124458</td>\n",
       "    </tr>\n",
       "    <tr>\n",
       "      <th>Target</th>\n",
       "      <td>0.005982</td>\n",
       "      <td>0.079575</td>\n",
       "      <td>0.283843</td>\n",
       "      <td>-0.404897</td>\n",
       "    </tr>\n",
       "    <tr>\n",
       "      <th>smoker_drinker</th>\n",
       "      <td>0.107931</td>\n",
       "      <td>-0.029214</td>\n",
       "      <td>-0.009411</td>\n",
       "      <td>0.177303</td>\n",
       "    </tr>\n",
       "  </tbody>\n",
       "</table>\n",
       "</div>"
      ],
      "text/plain": [
       "                                                         PC1       PC2  \\\n",
       "Mapped Agent 13M Persistency                        0.012756  0.047400   \n",
       "Applicant's Policy Annualized Premium               0.008479  0.231326   \n",
       "Mapped Agent Vintage                               -0.034121  0.025403   \n",
       "Auto Debit of Premium Opted Flag(Yes/No)           -0.012765  0.055738   \n",
       "Application Life Assured BMI                        0.036669  0.013409   \n",
       "Total Risk Exposure of HDFC Life w.r.t. Life As...  0.294260 -0.013707   \n",
       "Application  Sourcing Channel                       0.086860 -0.093385   \n",
       "Application  Life Assured City                     -0.108345 -0.421509   \n",
       "Application  Life Assured City Tier                -0.155918 -0.388756   \n",
       "Application  Life Assured Age                      -0.004817  0.002046   \n",
       "Application  Life Assured Education                 0.034240  0.075951   \n",
       "Application  Life Assured Gender                    0.032414 -0.112513   \n",
       "Application  Life Assured Income                    0.114612  0.151261   \n",
       "Application  Life Assured Industry                  0.094432  0.125303   \n",
       "Application  Life Assured Marital Status            0.020728  0.022355   \n",
       "Application  Life Assured Occupation                0.051489  0.116132   \n",
       "Applicant's Policy PAR/NON PAR/ULIP Tag            -0.406996  0.173181   \n",
       "Application Specific Sourcing Partner               0.147531 -0.051108   \n",
       "First Premium Payment Type                         -0.013769 -0.060008   \n",
       "Applicant's Policy Product Category                 0.236616 -0.095876   \n",
       "Applicant's Policy Premium Payment Frequency        0.063277  0.034052   \n",
       "Applicant's Policy Product Name                    -0.064558 -0.089297   \n",
       "Applicant's Policy Price Sensitivity(1-'Yes', 0...  0.412117 -0.171767   \n",
       "Application Life Assured Residential Status        -0.001939 -0.008362   \n",
       "Applicant's Policy Risk Cessation Term              0.403518 -0.170406   \n",
       "Applicant's Policy Rider Opted Flag(1-'Yes', 0-...  0.010907 -0.074059   \n",
       "Application Life Assured State                     -0.052228 -0.209446   \n",
       "Application Sourcing Sub Channel                    0.210186 -0.091899   \n",
       "Applicant's Policy Sum Assured                      0.373010 -0.047407   \n",
       "HDFC Life Operational Zone                          0.116988  0.076210   \n",
       "Application Login year                             -0.001788 -0.024298   \n",
       "Application Login month                             0.017133  0.000666   \n",
       "Application Login day                               0.000918  0.024158   \n",
       "Mapped Agent city                                  -0.150347 -0.402037   \n",
       "Applicant's Policy Contract city                   -0.143759 -0.427330   \n",
       "Target                                              0.005982  0.079575   \n",
       "smoker_drinker                                      0.107931 -0.029214   \n",
       "\n",
       "                                                         PC3       PC4  \n",
       "Mapped Agent 13M Persistency                        0.066413 -0.052496  \n",
       "Applicant's Policy Annualized Premium               0.365273  0.009720  \n",
       "Mapped Agent Vintage                                0.158753 -0.025747  \n",
       "Auto Debit of Premium Opted Flag(Yes/No)            0.277102 -0.449762  \n",
       "Application Life Assured BMI                       -0.003667 -0.032329  \n",
       "Total Risk Exposure of HDFC Life w.r.t. Life As...  0.301968  0.175979  \n",
       "Application  Sourcing Channel                      -0.158205 -0.222266  \n",
       "Application  Life Assured City                      0.119447 -0.069654  \n",
       "Application  Life Assured City Tier                 0.026226  0.048397  \n",
       "Application  Life Assured Age                      -0.135836 -0.115995  \n",
       "Application  Life Assured Education                -0.018518  0.003350  \n",
       "Application  Life Assured Gender                   -0.016807  0.163821  \n",
       "Application  Life Assured Income                    0.340856  0.072035  \n",
       "Application  Life Assured Industry                  0.072893 -0.059192  \n",
       "Application  Life Assured Marital Status           -0.086814 -0.092301  \n",
       "Application  Life Assured Occupation                0.081099 -0.065039  \n",
       "Applicant's Policy PAR/NON PAR/ULIP Tag             0.111659  0.089917  \n",
       "Application Specific Sourcing Partner              -0.179284 -0.212687  \n",
       "First Premium Payment Type                         -0.101562  0.247782  \n",
       "Applicant's Policy Product Category                -0.222502 -0.224706  \n",
       "Applicant's Policy Premium Payment Frequency        0.054508 -0.064120  \n",
       "Applicant's Policy Product Name                     0.108216  0.158689  \n",
       "Applicant's Policy Price Sensitivity(1-'Yes', 0...  0.040152  0.077240  \n",
       "Application Life Assured Residential Status        -0.008739  0.079744  \n",
       "Applicant's Policy Risk Cessation Term             -0.010301  0.017579  \n",
       "Applicant's Policy Rider Opted Flag(1-'Yes', 0-...  0.025953  0.316710  \n",
       "Application Life Assured State                      0.004866  0.076736  \n",
       "Application Sourcing Sub Channel                   -0.179962 -0.205666  \n",
       "Applicant's Policy Sum Assured                      0.292914  0.184110  \n",
       "HDFC Life Operational Zone                          0.096077 -0.148061  \n",
       "Application Login year                             -0.106597 -0.094024  \n",
       "Application Login month                             0.106410  0.014042  \n",
       "Application Login day                               0.048819 -0.004592  \n",
       "Mapped Agent city                                   0.254785 -0.111672  \n",
       "Applicant's Policy Contract city                    0.233764 -0.124458  \n",
       "Target                                              0.283843 -0.404897  \n",
       "smoker_drinker                                     -0.009411  0.177303  "
      ]
     },
     "execution_count": 49,
     "metadata": {},
     "output_type": "execute_result"
    }
   ],
   "source": [
    "df_train_2.columns = ['PC1', 'PC2', 'PC3', 'PC4']\n",
    "df_train_2"
   ]
  },
  {
   "cell_type": "markdown",
   "id": "8354dc64",
   "metadata": {},
   "source": [
    "We are observing four PCA components"
   ]
  },
  {
   "cell_type": "code",
   "execution_count": 50,
   "id": "e83e17bd",
   "metadata": {},
   "outputs": [
    {
     "data": {
      "text/plain": [
       "array([4.07789693, 2.87142284, 2.00277173, 1.57275925])"
      ]
     },
     "execution_count": 50,
     "metadata": {},
     "output_type": "execute_result"
    }
   ],
   "source": [
    "pca.explained_variance_"
   ]
  },
  {
   "cell_type": "code",
   "execution_count": 51,
   "id": "aa2393b6",
   "metadata": {},
   "outputs": [
    {
     "data": {
      "text/plain": [
       "array([11.02090777,  7.76029576,  5.41268278,  4.25053278])"
      ]
     },
     "execution_count": 51,
     "metadata": {},
     "output_type": "execute_result"
    }
   ],
   "source": [
    "pca.explained_variance_ratio_*100"
   ]
  },
  {
   "cell_type": "code",
   "execution_count": 52,
   "id": "c9b907d2",
   "metadata": {},
   "outputs": [
    {
     "data": {
      "text/html": [
       "<div>\n",
       "<style scoped>\n",
       "    .dataframe tbody tr th:only-of-type {\n",
       "        vertical-align: middle;\n",
       "    }\n",
       "\n",
       "    .dataframe tbody tr th {\n",
       "        vertical-align: top;\n",
       "    }\n",
       "\n",
       "    .dataframe thead th {\n",
       "        text-align: right;\n",
       "    }\n",
       "</style>\n",
       "<table border=\"1\" class=\"dataframe\">\n",
       "  <thead>\n",
       "    <tr style=\"text-align: right;\">\n",
       "      <th></th>\n",
       "      <th>PC1</th>\n",
       "      <th>PC2</th>\n",
       "      <th>PC3</th>\n",
       "      <th>PC4</th>\n",
       "    </tr>\n",
       "  </thead>\n",
       "  <tbody>\n",
       "    <tr>\n",
       "      <th>Mapped Agent 13M Persistency</th>\n",
       "      <td>0.012756</td>\n",
       "      <td>0.047400</td>\n",
       "      <td>0.066413</td>\n",
       "      <td>-0.052496</td>\n",
       "    </tr>\n",
       "    <tr>\n",
       "      <th>Applicant's Policy Annualized Premium</th>\n",
       "      <td>0.008479</td>\n",
       "      <td>0.231326</td>\n",
       "      <td>0.365273</td>\n",
       "      <td>0.009720</td>\n",
       "    </tr>\n",
       "    <tr>\n",
       "      <th>Mapped Agent Vintage</th>\n",
       "      <td>-0.034121</td>\n",
       "      <td>0.025403</td>\n",
       "      <td>0.158753</td>\n",
       "      <td>-0.025747</td>\n",
       "    </tr>\n",
       "    <tr>\n",
       "      <th>Auto Debit of Premium Opted Flag(Yes/No)</th>\n",
       "      <td>-0.012765</td>\n",
       "      <td>0.055738</td>\n",
       "      <td>0.277102</td>\n",
       "      <td>-0.449762</td>\n",
       "    </tr>\n",
       "    <tr>\n",
       "      <th>Application Life Assured BMI</th>\n",
       "      <td>0.036669</td>\n",
       "      <td>0.013409</td>\n",
       "      <td>-0.003667</td>\n",
       "      <td>-0.032329</td>\n",
       "    </tr>\n",
       "  </tbody>\n",
       "</table>\n",
       "</div>"
      ],
      "text/plain": [
       "                                               PC1       PC2       PC3  \\\n",
       "Mapped Agent 13M Persistency              0.012756  0.047400  0.066413   \n",
       "Applicant's Policy Annualized Premium     0.008479  0.231326  0.365273   \n",
       "Mapped Agent Vintage                     -0.034121  0.025403  0.158753   \n",
       "Auto Debit of Premium Opted Flag(Yes/No) -0.012765  0.055738  0.277102   \n",
       "Application Life Assured BMI              0.036669  0.013409 -0.003667   \n",
       "\n",
       "                                               PC4  \n",
       "Mapped Agent 13M Persistency             -0.052496  \n",
       "Applicant's Policy Annualized Premium     0.009720  \n",
       "Mapped Agent Vintage                     -0.025747  \n",
       "Auto Debit of Premium Opted Flag(Yes/No) -0.449762  \n",
       "Application Life Assured BMI             -0.032329  "
      ]
     },
     "execution_count": 52,
     "metadata": {},
     "output_type": "execute_result"
    }
   ],
   "source": [
    "df_train_2.head()"
   ]
  },
  {
   "cell_type": "code",
   "execution_count": 53,
   "id": "ff724541",
   "metadata": {},
   "outputs": [
    {
     "data": {
      "text/html": [
       "<div>\n",
       "<style scoped>\n",
       "    .dataframe tbody tr th:only-of-type {\n",
       "        vertical-align: middle;\n",
       "    }\n",
       "\n",
       "    .dataframe tbody tr th {\n",
       "        vertical-align: top;\n",
       "    }\n",
       "\n",
       "    .dataframe thead th {\n",
       "        text-align: right;\n",
       "    }\n",
       "</style>\n",
       "<table border=\"1\" class=\"dataframe\">\n",
       "  <thead>\n",
       "    <tr style=\"text-align: right;\">\n",
       "      <th></th>\n",
       "      <th>Mapped Agent 13M Persistency</th>\n",
       "      <th>Applicant's Policy Annualized Premium</th>\n",
       "      <th>Mapped Agent Vintage</th>\n",
       "      <th>Auto Debit of Premium Opted Flag(Yes/No)</th>\n",
       "      <th>Application Life Assured BMI</th>\n",
       "      <th>Total Risk Exposure of HDFC Life w.r.t. Life Assured</th>\n",
       "      <th>Application  Sourcing Channel</th>\n",
       "      <th>Application  Life Assured City</th>\n",
       "      <th>Application  Life Assured City Tier</th>\n",
       "      <th>Application  Life Assured Age</th>\n",
       "      <th>...</th>\n",
       "      <th>Application Sourcing Sub Channel</th>\n",
       "      <th>Applicant's Policy Sum Assured</th>\n",
       "      <th>HDFC Life Operational Zone</th>\n",
       "      <th>Application Login year</th>\n",
       "      <th>Application Login month</th>\n",
       "      <th>Application Login day</th>\n",
       "      <th>Mapped Agent city</th>\n",
       "      <th>Applicant's Policy Contract city</th>\n",
       "      <th>Target</th>\n",
       "      <th>smoker_drinker</th>\n",
       "    </tr>\n",
       "  </thead>\n",
       "  <tbody>\n",
       "    <tr>\n",
       "      <th>PC1</th>\n",
       "      <td>0.012756</td>\n",
       "      <td>0.008479</td>\n",
       "      <td>-0.034121</td>\n",
       "      <td>-0.012765</td>\n",
       "      <td>0.036669</td>\n",
       "      <td>0.294260</td>\n",
       "      <td>0.086860</td>\n",
       "      <td>-0.108345</td>\n",
       "      <td>-0.155918</td>\n",
       "      <td>-0.004817</td>\n",
       "      <td>...</td>\n",
       "      <td>0.210186</td>\n",
       "      <td>0.373010</td>\n",
       "      <td>0.116988</td>\n",
       "      <td>-0.001788</td>\n",
       "      <td>0.017133</td>\n",
       "      <td>0.000918</td>\n",
       "      <td>-0.150347</td>\n",
       "      <td>-0.143759</td>\n",
       "      <td>0.005982</td>\n",
       "      <td>0.107931</td>\n",
       "    </tr>\n",
       "    <tr>\n",
       "      <th>PC2</th>\n",
       "      <td>0.047400</td>\n",
       "      <td>0.231326</td>\n",
       "      <td>0.025403</td>\n",
       "      <td>0.055738</td>\n",
       "      <td>0.013409</td>\n",
       "      <td>-0.013707</td>\n",
       "      <td>-0.093385</td>\n",
       "      <td>-0.421509</td>\n",
       "      <td>-0.388756</td>\n",
       "      <td>0.002046</td>\n",
       "      <td>...</td>\n",
       "      <td>-0.091899</td>\n",
       "      <td>-0.047407</td>\n",
       "      <td>0.076210</td>\n",
       "      <td>-0.024298</td>\n",
       "      <td>0.000666</td>\n",
       "      <td>0.024158</td>\n",
       "      <td>-0.402037</td>\n",
       "      <td>-0.427330</td>\n",
       "      <td>0.079575</td>\n",
       "      <td>-0.029214</td>\n",
       "    </tr>\n",
       "    <tr>\n",
       "      <th>PC3</th>\n",
       "      <td>0.066413</td>\n",
       "      <td>0.365273</td>\n",
       "      <td>0.158753</td>\n",
       "      <td>0.277102</td>\n",
       "      <td>-0.003667</td>\n",
       "      <td>0.301968</td>\n",
       "      <td>-0.158205</td>\n",
       "      <td>0.119447</td>\n",
       "      <td>0.026226</td>\n",
       "      <td>-0.135836</td>\n",
       "      <td>...</td>\n",
       "      <td>-0.179962</td>\n",
       "      <td>0.292914</td>\n",
       "      <td>0.096077</td>\n",
       "      <td>-0.106597</td>\n",
       "      <td>0.106410</td>\n",
       "      <td>0.048819</td>\n",
       "      <td>0.254785</td>\n",
       "      <td>0.233764</td>\n",
       "      <td>0.283843</td>\n",
       "      <td>-0.009411</td>\n",
       "    </tr>\n",
       "    <tr>\n",
       "      <th>PC4</th>\n",
       "      <td>-0.052496</td>\n",
       "      <td>0.009720</td>\n",
       "      <td>-0.025747</td>\n",
       "      <td>-0.449762</td>\n",
       "      <td>-0.032329</td>\n",
       "      <td>0.175979</td>\n",
       "      <td>-0.222266</td>\n",
       "      <td>-0.069654</td>\n",
       "      <td>0.048397</td>\n",
       "      <td>-0.115995</td>\n",
       "      <td>...</td>\n",
       "      <td>-0.205666</td>\n",
       "      <td>0.184110</td>\n",
       "      <td>-0.148061</td>\n",
       "      <td>-0.094024</td>\n",
       "      <td>0.014042</td>\n",
       "      <td>-0.004592</td>\n",
       "      <td>-0.111672</td>\n",
       "      <td>-0.124458</td>\n",
       "      <td>-0.404897</td>\n",
       "      <td>0.177303</td>\n",
       "    </tr>\n",
       "  </tbody>\n",
       "</table>\n",
       "<p>4 rows × 37 columns</p>\n",
       "</div>"
      ],
      "text/plain": [
       "     Mapped Agent 13M Persistency  Applicant's Policy Annualized Premium  \\\n",
       "PC1                      0.012756                               0.008479   \n",
       "PC2                      0.047400                               0.231326   \n",
       "PC3                      0.066413                               0.365273   \n",
       "PC4                     -0.052496                               0.009720   \n",
       "\n",
       "     Mapped Agent Vintage  Auto Debit of Premium Opted Flag(Yes/No)  \\\n",
       "PC1             -0.034121                                 -0.012765   \n",
       "PC2              0.025403                                  0.055738   \n",
       "PC3              0.158753                                  0.277102   \n",
       "PC4             -0.025747                                 -0.449762   \n",
       "\n",
       "     Application Life Assured BMI  \\\n",
       "PC1                      0.036669   \n",
       "PC2                      0.013409   \n",
       "PC3                     -0.003667   \n",
       "PC4                     -0.032329   \n",
       "\n",
       "     Total Risk Exposure of HDFC Life w.r.t. Life Assured  \\\n",
       "PC1                                           0.294260      \n",
       "PC2                                          -0.013707      \n",
       "PC3                                           0.301968      \n",
       "PC4                                           0.175979      \n",
       "\n",
       "     Application  Sourcing Channel  Application  Life Assured City  \\\n",
       "PC1                       0.086860                       -0.108345   \n",
       "PC2                      -0.093385                       -0.421509   \n",
       "PC3                      -0.158205                        0.119447   \n",
       "PC4                      -0.222266                       -0.069654   \n",
       "\n",
       "     Application  Life Assured City Tier  Application  Life Assured Age  ...  \\\n",
       "PC1                            -0.155918                      -0.004817  ...   \n",
       "PC2                            -0.388756                       0.002046  ...   \n",
       "PC3                             0.026226                      -0.135836  ...   \n",
       "PC4                             0.048397                      -0.115995  ...   \n",
       "\n",
       "     Application Sourcing Sub Channel  Applicant's Policy Sum Assured  \\\n",
       "PC1                          0.210186                        0.373010   \n",
       "PC2                         -0.091899                       -0.047407   \n",
       "PC3                         -0.179962                        0.292914   \n",
       "PC4                         -0.205666                        0.184110   \n",
       "\n",
       "     HDFC Life Operational Zone  Application Login year  \\\n",
       "PC1                    0.116988               -0.001788   \n",
       "PC2                    0.076210               -0.024298   \n",
       "PC3                    0.096077               -0.106597   \n",
       "PC4                   -0.148061               -0.094024   \n",
       "\n",
       "     Application Login month  Application Login day  Mapped Agent city  \\\n",
       "PC1                 0.017133               0.000918          -0.150347   \n",
       "PC2                 0.000666               0.024158          -0.402037   \n",
       "PC3                 0.106410               0.048819           0.254785   \n",
       "PC4                 0.014042              -0.004592          -0.111672   \n",
       "\n",
       "     Applicant's Policy Contract city    Target  smoker_drinker  \n",
       "PC1                         -0.143759  0.005982        0.107931  \n",
       "PC2                         -0.427330  0.079575       -0.029214  \n",
       "PC3                          0.233764  0.283843       -0.009411  \n",
       "PC4                         -0.124458 -0.404897        0.177303  \n",
       "\n",
       "[4 rows x 37 columns]"
      ]
     },
     "execution_count": 53,
     "metadata": {},
     "output_type": "execute_result"
    }
   ],
   "source": [
    "df_train_3 = df_train_2.T\n",
    "df_train_3"
   ]
  },
  {
   "cell_type": "code",
   "execution_count": 56,
   "id": "9a470960",
   "metadata": {},
   "outputs": [
    {
     "name": "stdout",
     "output_type": "stream",
     "text": [
      "Index which gives maximum value from a target function: 2\n"
     ]
    }
   ],
   "source": [
    "print('Index which gives maximum value from a target function:', df_train_3['Mapped Agent 13M Persistency'].argmax())"
   ]
  },
  {
   "cell_type": "markdown",
   "id": "71f296de",
   "metadata": {},
   "source": [
    "In index 2 we can see that PC3 gives maximum value from a target function"
   ]
  },
  {
   "cell_type": "code",
   "execution_count": 62,
   "id": "15028842",
   "metadata": {},
   "outputs": [
    {
     "data": {
      "text/plain": [
       "([<matplotlib.axis.XTick at 0x189136fa0d0>,\n",
       "  <matplotlib.axis.XTick at 0x189136fa0a0>,\n",
       "  <matplotlib.axis.XTick at 0x189136f1d30>,\n",
       "  <matplotlib.axis.XTick at 0x18913719c70>],\n",
       " [Text(0, 0, ''), Text(0, 0, ''), Text(0, 0, ''), Text(0, 0, '')])"
      ]
     },
     "execution_count": 62,
     "metadata": {},
     "output_type": "execute_result"
    },
    {
     "data": {
      "image/png": "[encoded data removed]",
      "text/plain": [
       "<Figure size 1080x576 with 1 Axes>"
      ]
     },
     "metadata": {},
     "output_type": "display_data"
    }
   ],
   "source": [
    "plt.figure(figsize=(15,8))\n",
    "plt.plot([1,2,3,4], pca.explained_variance_ratio_, '-o')\n",
    "plt.ylabel('Proportion of Variance Explained')\n",
    "plt.xlabel('Principal Component')\n",
    "plt.xlim(0.75,4.25)\n",
    "plt.ylim(0,0.15)\n",
    "plt.xticks([1,2,3,4])"
   ]
  },
  {
   "cell_type": "markdown",
   "id": "dd7f1526",
   "metadata": {},
   "source": [
    "### 4.1 KMeans\n",
    "\n",
    "The K-means clustering technique is used to detect groupings in data that have not been explicitly categorised. This may be used to validate business assumptions about the sorts of groups that exist or to find unknown groups in large data sets."
   ]
  },
  {
   "cell_type": "code",
   "execution_count": 63,
   "id": "5815563f",
   "metadata": {},
   "outputs": [],
   "source": [
    "from sklearn.cluster import KMeans"
   ]
  },
  {
   "cell_type": "code",
   "execution_count": 64,
   "id": "c574a953",
   "metadata": {},
   "outputs": [
    {
     "data": {
      "text/plain": [
       "KMeans(n_clusters=3, random_state=42)"
      ]
     },
     "execution_count": 64,
     "metadata": {},
     "output_type": "execute_result"
    }
   ],
   "source": [
    "k = 3\n",
    "clusters = KMeans(k, random_state = 42 )\n",
    "clusters.fit(df_train_2)"
   ]
  },
  {
   "cell_type": "code",
   "execution_count": 65,
   "id": "fe8571da",
   "metadata": {},
   "outputs": [
    {
     "data": {
      "text/html": [
       "<div>\n",
       "<style scoped>\n",
       "    .dataframe tbody tr th:only-of-type {\n",
       "        vertical-align: middle;\n",
       "    }\n",
       "\n",
       "    .dataframe tbody tr th {\n",
       "        vertical-align: top;\n",
       "    }\n",
       "\n",
       "    .dataframe thead th {\n",
       "        text-align: right;\n",
       "    }\n",
       "</style>\n",
       "<table border=\"1\" class=\"dataframe\">\n",
       "  <thead>\n",
       "    <tr style=\"text-align: right;\">\n",
       "      <th></th>\n",
       "      <th>PC1</th>\n",
       "      <th>PC2</th>\n",
       "      <th>PC3</th>\n",
       "      <th>PC4</th>\n",
       "      <th>Cluster</th>\n",
       "    </tr>\n",
       "  </thead>\n",
       "  <tbody>\n",
       "    <tr>\n",
       "      <th>Mapped Agent 13M Persistency</th>\n",
       "      <td>0.012756</td>\n",
       "      <td>0.047400</td>\n",
       "      <td>0.066413</td>\n",
       "      <td>-0.052496</td>\n",
       "      <td>1</td>\n",
       "    </tr>\n",
       "    <tr>\n",
       "      <th>Applicant's Policy Annualized Premium</th>\n",
       "      <td>0.008479</td>\n",
       "      <td>0.231326</td>\n",
       "      <td>0.365273</td>\n",
       "      <td>0.009720</td>\n",
       "      <td>1</td>\n",
       "    </tr>\n",
       "    <tr>\n",
       "      <th>Mapped Agent Vintage</th>\n",
       "      <td>-0.034121</td>\n",
       "      <td>0.025403</td>\n",
       "      <td>0.158753</td>\n",
       "      <td>-0.025747</td>\n",
       "      <td>1</td>\n",
       "    </tr>\n",
       "    <tr>\n",
       "      <th>Auto Debit of Premium Opted Flag(Yes/No)</th>\n",
       "      <td>-0.012765</td>\n",
       "      <td>0.055738</td>\n",
       "      <td>0.277102</td>\n",
       "      <td>-0.449762</td>\n",
       "      <td>1</td>\n",
       "    </tr>\n",
       "    <tr>\n",
       "      <th>Application Life Assured BMI</th>\n",
       "      <td>0.036669</td>\n",
       "      <td>0.013409</td>\n",
       "      <td>-0.003667</td>\n",
       "      <td>-0.032329</td>\n",
       "      <td>1</td>\n",
       "    </tr>\n",
       "    <tr>\n",
       "      <th>Total Risk Exposure of HDFC Life w.r.t. Life Assured</th>\n",
       "      <td>0.294260</td>\n",
       "      <td>-0.013707</td>\n",
       "      <td>0.301968</td>\n",
       "      <td>0.175979</td>\n",
       "      <td>0</td>\n",
       "    </tr>\n",
       "    <tr>\n",
       "      <th>Application  Sourcing Channel</th>\n",
       "      <td>0.086860</td>\n",
       "      <td>-0.093385</td>\n",
       "      <td>-0.158205</td>\n",
       "      <td>-0.222266</td>\n",
       "      <td>1</td>\n",
       "    </tr>\n",
       "    <tr>\n",
       "      <th>Application  Life Assured City</th>\n",
       "      <td>-0.108345</td>\n",
       "      <td>-0.421509</td>\n",
       "      <td>0.119447</td>\n",
       "      <td>-0.069654</td>\n",
       "      <td>2</td>\n",
       "    </tr>\n",
       "    <tr>\n",
       "      <th>Application  Life Assured City Tier</th>\n",
       "      <td>-0.155918</td>\n",
       "      <td>-0.388756</td>\n",
       "      <td>0.026226</td>\n",
       "      <td>0.048397</td>\n",
       "      <td>2</td>\n",
       "    </tr>\n",
       "    <tr>\n",
       "      <th>Application  Life Assured Age</th>\n",
       "      <td>-0.004817</td>\n",
       "      <td>0.002046</td>\n",
       "      <td>-0.135836</td>\n",
       "      <td>-0.115995</td>\n",
       "      <td>1</td>\n",
       "    </tr>\n",
       "    <tr>\n",
       "      <th>Application  Life Assured Education</th>\n",
       "      <td>0.034240</td>\n",
       "      <td>0.075951</td>\n",
       "      <td>-0.018518</td>\n",
       "      <td>0.003350</td>\n",
       "      <td>1</td>\n",
       "    </tr>\n",
       "    <tr>\n",
       "      <th>Application  Life Assured Gender</th>\n",
       "      <td>0.032414</td>\n",
       "      <td>-0.112513</td>\n",
       "      <td>-0.016807</td>\n",
       "      <td>0.163821</td>\n",
       "      <td>0</td>\n",
       "    </tr>\n",
       "    <tr>\n",
       "      <th>Application  Life Assured Income</th>\n",
       "      <td>0.114612</td>\n",
       "      <td>0.151261</td>\n",
       "      <td>0.340856</td>\n",
       "      <td>0.072035</td>\n",
       "      <td>1</td>\n",
       "    </tr>\n",
       "    <tr>\n",
       "      <th>Application  Life Assured Industry</th>\n",
       "      <td>0.094432</td>\n",
       "      <td>0.125303</td>\n",
       "      <td>0.072893</td>\n",
       "      <td>-0.059192</td>\n",
       "      <td>1</td>\n",
       "    </tr>\n",
       "    <tr>\n",
       "      <th>Application  Life Assured Marital Status</th>\n",
       "      <td>0.020728</td>\n",
       "      <td>0.022355</td>\n",
       "      <td>-0.086814</td>\n",
       "      <td>-0.092301</td>\n",
       "      <td>1</td>\n",
       "    </tr>\n",
       "    <tr>\n",
       "      <th>Application  Life Assured Occupation</th>\n",
       "      <td>0.051489</td>\n",
       "      <td>0.116132</td>\n",
       "      <td>0.081099</td>\n",
       "      <td>-0.065039</td>\n",
       "      <td>1</td>\n",
       "    </tr>\n",
       "    <tr>\n",
       "      <th>Applicant's Policy PAR/NON PAR/ULIP Tag</th>\n",
       "      <td>-0.406996</td>\n",
       "      <td>0.173181</td>\n",
       "      <td>0.111659</td>\n",
       "      <td>0.089917</td>\n",
       "      <td>1</td>\n",
       "    </tr>\n",
       "    <tr>\n",
       "      <th>Application Specific Sourcing Partner</th>\n",
       "      <td>0.147531</td>\n",
       "      <td>-0.051108</td>\n",
       "      <td>-0.179284</td>\n",
       "      <td>-0.212687</td>\n",
       "      <td>1</td>\n",
       "    </tr>\n",
       "    <tr>\n",
       "      <th>First Premium Payment Type</th>\n",
       "      <td>-0.013769</td>\n",
       "      <td>-0.060008</td>\n",
       "      <td>-0.101562</td>\n",
       "      <td>0.247782</td>\n",
       "      <td>0</td>\n",
       "    </tr>\n",
       "    <tr>\n",
       "      <th>Applicant's Policy Product Category</th>\n",
       "      <td>0.236616</td>\n",
       "      <td>-0.095876</td>\n",
       "      <td>-0.222502</td>\n",
       "      <td>-0.224706</td>\n",
       "      <td>1</td>\n",
       "    </tr>\n",
       "    <tr>\n",
       "      <th>Applicant's Policy Premium Payment Frequency</th>\n",
       "      <td>0.063277</td>\n",
       "      <td>0.034052</td>\n",
       "      <td>0.054508</td>\n",
       "      <td>-0.064120</td>\n",
       "      <td>1</td>\n",
       "    </tr>\n",
       "    <tr>\n",
       "      <th>Applicant's Policy Product Name</th>\n",
       "      <td>-0.064558</td>\n",
       "      <td>-0.089297</td>\n",
       "      <td>0.108216</td>\n",
       "      <td>0.158689</td>\n",
       "      <td>0</td>\n",
       "    </tr>\n",
       "    <tr>\n",
       "      <th>Applicant's Policy Price Sensitivity(1-'Yes', 0-'No')</th>\n",
       "      <td>0.412117</td>\n",
       "      <td>-0.171767</td>\n",
       "      <td>0.040152</td>\n",
       "      <td>0.077240</td>\n",
       "      <td>0</td>\n",
       "    </tr>\n",
       "    <tr>\n",
       "      <th>Application Life Assured Residential Status</th>\n",
       "      <td>-0.001939</td>\n",
       "      <td>-0.008362</td>\n",
       "      <td>-0.008739</td>\n",
       "      <td>0.079744</td>\n",
       "      <td>1</td>\n",
       "    </tr>\n",
       "    <tr>\n",
       "      <th>Applicant's Policy Risk Cessation Term</th>\n",
       "      <td>0.403518</td>\n",
       "      <td>-0.170406</td>\n",
       "      <td>-0.010301</td>\n",
       "      <td>0.017579</td>\n",
       "      <td>0</td>\n",
       "    </tr>\n",
       "    <tr>\n",
       "      <th>Applicant's Policy Rider Opted Flag(1-'Yes', 0-'No')</th>\n",
       "      <td>0.010907</td>\n",
       "      <td>-0.074059</td>\n",
       "      <td>0.025953</td>\n",
       "      <td>0.316710</td>\n",
       "      <td>0</td>\n",
       "    </tr>\n",
       "    <tr>\n",
       "      <th>Application Life Assured State</th>\n",
       "      <td>-0.052228</td>\n",
       "      <td>-0.209446</td>\n",
       "      <td>0.004866</td>\n",
       "      <td>0.076736</td>\n",
       "      <td>2</td>\n",
       "    </tr>\n",
       "    <tr>\n",
       "      <th>Application Sourcing Sub Channel</th>\n",
       "      <td>0.210186</td>\n",
       "      <td>-0.091899</td>\n",
       "      <td>-0.179962</td>\n",
       "      <td>-0.205666</td>\n",
       "      <td>1</td>\n",
       "    </tr>\n",
       "    <tr>\n",
       "      <th>Applicant's Policy Sum Assured</th>\n",
       "      <td>0.373010</td>\n",
       "      <td>-0.047407</td>\n",
       "      <td>0.292914</td>\n",
       "      <td>0.184110</td>\n",
       "      <td>0</td>\n",
       "    </tr>\n",
       "    <tr>\n",
       "      <th>HDFC Life Operational Zone</th>\n",
       "      <td>0.116988</td>\n",
       "      <td>0.076210</td>\n",
       "      <td>0.096077</td>\n",
       "      <td>-0.148061</td>\n",
       "      <td>1</td>\n",
       "    </tr>\n",
       "    <tr>\n",
       "      <th>Application Login year</th>\n",
       "      <td>-0.001788</td>\n",
       "      <td>-0.024298</td>\n",
       "      <td>-0.106597</td>\n",
       "      <td>-0.094024</td>\n",
       "      <td>1</td>\n",
       "    </tr>\n",
       "    <tr>\n",
       "      <th>Application Login month</th>\n",
       "      <td>0.017133</td>\n",
       "      <td>0.000666</td>\n",
       "      <td>0.106410</td>\n",
       "      <td>0.014042</td>\n",
       "      <td>1</td>\n",
       "    </tr>\n",
       "    <tr>\n",
       "      <th>Application Login day</th>\n",
       "      <td>0.000918</td>\n",
       "      <td>0.024158</td>\n",
       "      <td>0.048819</td>\n",
       "      <td>-0.004592</td>\n",
       "      <td>1</td>\n",
       "    </tr>\n",
       "    <tr>\n",
       "      <th>Mapped Agent city</th>\n",
       "      <td>-0.150347</td>\n",
       "      <td>-0.402037</td>\n",
       "      <td>0.254785</td>\n",
       "      <td>-0.111672</td>\n",
       "      <td>2</td>\n",
       "    </tr>\n",
       "    <tr>\n",
       "      <th>Applicant's Policy Contract city</th>\n",
       "      <td>-0.143759</td>\n",
       "      <td>-0.427330</td>\n",
       "      <td>0.233764</td>\n",
       "      <td>-0.124458</td>\n",
       "      <td>2</td>\n",
       "    </tr>\n",
       "    <tr>\n",
       "      <th>Target</th>\n",
       "      <td>0.005982</td>\n",
       "      <td>0.079575</td>\n",
       "      <td>0.283843</td>\n",
       "      <td>-0.404897</td>\n",
       "      <td>1</td>\n",
       "    </tr>\n",
       "    <tr>\n",
       "      <th>smoker_drinker</th>\n",
       "      <td>0.107931</td>\n",
       "      <td>-0.029214</td>\n",
       "      <td>-0.009411</td>\n",
       "      <td>0.177303</td>\n",
       "      <td>0</td>\n",
       "    </tr>\n",
       "  </tbody>\n",
       "</table>\n",
       "</div>"
      ],
      "text/plain": [
       "                                                         PC1       PC2  \\\n",
       "Mapped Agent 13M Persistency                        0.012756  0.047400   \n",
       "Applicant's Policy Annualized Premium               0.008479  0.231326   \n",
       "Mapped Agent Vintage                               -0.034121  0.025403   \n",
       "Auto Debit of Premium Opted Flag(Yes/No)           -0.012765  0.055738   \n",
       "Application Life Assured BMI                        0.036669  0.013409   \n",
       "Total Risk Exposure of HDFC Life w.r.t. Life As...  0.294260 -0.013707   \n",
       "Application  Sourcing Channel                       0.086860 -0.093385   \n",
       "Application  Life Assured City                     -0.108345 -0.421509   \n",
       "Application  Life Assured City Tier                -0.155918 -0.388756   \n",
       "Application  Life Assured Age                      -0.004817  0.002046   \n",
       "Application  Life Assured Education                 0.034240  0.075951   \n",
       "Application  Life Assured Gender                    0.032414 -0.112513   \n",
       "Application  Life Assured Income                    0.114612  0.151261   \n",
       "Application  Life Assured Industry                  0.094432  0.125303   \n",
       "Application  Life Assured Marital Status            0.020728  0.022355   \n",
       "Application  Life Assured Occupation                0.051489  0.116132   \n",
       "Applicant's Policy PAR/NON PAR/ULIP Tag            -0.406996  0.173181   \n",
       "Application Specific Sourcing Partner               0.147531 -0.051108   \n",
       "First Premium Payment Type                         -0.013769 -0.060008   \n",
       "Applicant's Policy Product Category                 0.236616 -0.095876   \n",
       "Applicant's Policy Premium Payment Frequency        0.063277  0.034052   \n",
       "Applicant's Policy Product Name                    -0.064558 -0.089297   \n",
       "Applicant's Policy Price Sensitivity(1-'Yes', 0...  0.412117 -0.171767   \n",
       "Application Life Assured Residential Status        -0.001939 -0.008362   \n",
       "Applicant's Policy Risk Cessation Term              0.403518 -0.170406   \n",
       "Applicant's Policy Rider Opted Flag(1-'Yes', 0-...  0.010907 -0.074059   \n",
       "Application Life Assured State                     -0.052228 -0.209446   \n",
       "Application Sourcing Sub Channel                    0.210186 -0.091899   \n",
       "Applicant's Policy Sum Assured                      0.373010 -0.047407   \n",
       "HDFC Life Operational Zone                          0.116988  0.076210   \n",
       "Application Login year                             -0.001788 -0.024298   \n",
       "Application Login month                             0.017133  0.000666   \n",
       "Application Login day                               0.000918  0.024158   \n",
       "Mapped Agent city                                  -0.150347 -0.402037   \n",
       "Applicant's Policy Contract city                   -0.143759 -0.427330   \n",
       "Target                                              0.005982  0.079575   \n",
       "smoker_drinker                                      0.107931 -0.029214   \n",
       "\n",
       "                                                         PC3       PC4  \\\n",
       "Mapped Agent 13M Persistency                        0.066413 -0.052496   \n",
       "Applicant's Policy Annualized Premium               0.365273  0.009720   \n",
       "Mapped Agent Vintage                                0.158753 -0.025747   \n",
       "Auto Debit of Premium Opted Flag(Yes/No)            0.277102 -0.449762   \n",
       "Application Life Assured BMI                       -0.003667 -0.032329   \n",
       "Total Risk Exposure of HDFC Life w.r.t. Life As...  0.301968  0.175979   \n",
       "Application  Sourcing Channel                      -0.158205 -0.222266   \n",
       "Application  Life Assured City                      0.119447 -0.069654   \n",
       "Application  Life Assured City Tier                 0.026226  0.048397   \n",
       "Application  Life Assured Age                      -0.135836 -0.115995   \n",
       "Application  Life Assured Education                -0.018518  0.003350   \n",
       "Application  Life Assured Gender                   -0.016807  0.163821   \n",
       "Application  Life Assured Income                    0.340856  0.072035   \n",
       "Application  Life Assured Industry                  0.072893 -0.059192   \n",
       "Application  Life Assured Marital Status           -0.086814 -0.092301   \n",
       "Application  Life Assured Occupation                0.081099 -0.065039   \n",
       "Applicant's Policy PAR/NON PAR/ULIP Tag             0.111659  0.089917   \n",
       "Application Specific Sourcing Partner              -0.179284 -0.212687   \n",
       "First Premium Payment Type                         -0.101562  0.247782   \n",
       "Applicant's Policy Product Category                -0.222502 -0.224706   \n",
       "Applicant's Policy Premium Payment Frequency        0.054508 -0.064120   \n",
       "Applicant's Policy Product Name                     0.108216  0.158689   \n",
       "Applicant's Policy Price Sensitivity(1-'Yes', 0...  0.040152  0.077240   \n",
       "Application Life Assured Residential Status        -0.008739  0.079744   \n",
       "Applicant's Policy Risk Cessation Term             -0.010301  0.017579   \n",
       "Applicant's Policy Rider Opted Flag(1-'Yes', 0-...  0.025953  0.316710   \n",
       "Application Life Assured State                      0.004866  0.076736   \n",
       "Application Sourcing Sub Channel                   -0.179962 -0.205666   \n",
       "Applicant's Policy Sum Assured                      0.292914  0.184110   \n",
       "HDFC Life Operational Zone                          0.096077 -0.148061   \n",
       "Application Login year                             -0.106597 -0.094024   \n",
       "Application Login month                             0.106410  0.014042   \n",
       "Application Login day                               0.048819 -0.004592   \n",
       "Mapped Agent city                                   0.254785 -0.111672   \n",
       "Applicant's Policy Contract city                    0.233764 -0.124458   \n",
       "Target                                              0.283843 -0.404897   \n",
       "smoker_drinker                                     -0.009411  0.177303   \n",
       "\n",
       "                                                    Cluster  \n",
       "Mapped Agent 13M Persistency                              1  \n",
       "Applicant's Policy Annualized Premium                     1  \n",
       "Mapped Agent Vintage                                      1  \n",
       "Auto Debit of Premium Opted Flag(Yes/No)                  1  \n",
       "Application Life Assured BMI                              1  \n",
       "Total Risk Exposure of HDFC Life w.r.t. Life As...        0  \n",
       "Application  Sourcing Channel                             1  \n",
       "Application  Life Assured City                            2  \n",
       "Application  Life Assured City Tier                       2  \n",
       "Application  Life Assured Age                             1  \n",
       "Application  Life Assured Education                       1  \n",
       "Application  Life Assured Gender                          0  \n",
       "Application  Life Assured Income                          1  \n",
       "Application  Life Assured Industry                        1  \n",
       "Application  Life Assured Marital Status                  1  \n",
       "Application  Life Assured Occupation                      1  \n",
       "Applicant's Policy PAR/NON PAR/ULIP Tag                   1  \n",
       "Application Specific Sourcing Partner                     1  \n",
       "First Premium Payment Type                                0  \n",
       "Applicant's Policy Product Category                       1  \n",
       "Applicant's Policy Premium Payment Frequency              1  \n",
       "Applicant's Policy Product Name                           0  \n",
       "Applicant's Policy Price Sensitivity(1-'Yes', 0...        0  \n",
       "Application Life Assured Residential Status               1  \n",
       "Applicant's Policy Risk Cessation Term                    0  \n",
       "Applicant's Policy Rider Opted Flag(1-'Yes', 0-...        0  \n",
       "Application Life Assured State                            2  \n",
       "Application Sourcing Sub Channel                          1  \n",
       "Applicant's Policy Sum Assured                            0  \n",
       "HDFC Life Operational Zone                                1  \n",
       "Application Login year                                    1  \n",
       "Application Login month                                   1  \n",
       "Application Login day                                     1  \n",
       "Mapped Agent city                                         2  \n",
       "Applicant's Policy Contract city                          2  \n",
       "Target                                                    1  \n",
       "smoker_drinker                                            0  "
      ]
     },
     "execution_count": 65,
     "metadata": {},
     "output_type": "execute_result"
    }
   ],
   "source": [
    "df_train_2['Cluster'] = clusters.labels_\n",
    "df_train_2"
   ]
  },
  {
   "cell_type": "code",
   "execution_count": 66,
   "id": "808b922c",
   "metadata": {},
   "outputs": [
    {
     "data": {
      "text/html": [
       "<div>\n",
       "<style scoped>\n",
       "    .dataframe tbody tr th:only-of-type {\n",
       "        vertical-align: middle;\n",
       "    }\n",
       "\n",
       "    .dataframe tbody tr th {\n",
       "        vertical-align: top;\n",
       "    }\n",
       "\n",
       "    .dataframe thead th {\n",
       "        text-align: right;\n",
       "    }\n",
       "</style>\n",
       "<table border=\"1\" class=\"dataframe\">\n",
       "  <thead>\n",
       "    <tr style=\"text-align: right;\">\n",
       "      <th></th>\n",
       "      <th>PC1</th>\n",
       "      <th>PC2</th>\n",
       "      <th>PC3</th>\n",
       "      <th>PC4</th>\n",
       "      <th>Cluster</th>\n",
       "    </tr>\n",
       "  </thead>\n",
       "  <tbody>\n",
       "    <tr>\n",
       "      <th>Total Risk Exposure of HDFC Life w.r.t. Life Assured</th>\n",
       "      <td>0.294260</td>\n",
       "      <td>-0.013707</td>\n",
       "      <td>0.301968</td>\n",
       "      <td>0.175979</td>\n",
       "      <td>0</td>\n",
       "    </tr>\n",
       "    <tr>\n",
       "      <th>Application  Life Assured Gender</th>\n",
       "      <td>0.032414</td>\n",
       "      <td>-0.112513</td>\n",
       "      <td>-0.016807</td>\n",
       "      <td>0.163821</td>\n",
       "      <td>0</td>\n",
       "    </tr>\n",
       "    <tr>\n",
       "      <th>First Premium Payment Type</th>\n",
       "      <td>-0.013769</td>\n",
       "      <td>-0.060008</td>\n",
       "      <td>-0.101562</td>\n",
       "      <td>0.247782</td>\n",
       "      <td>0</td>\n",
       "    </tr>\n",
       "    <tr>\n",
       "      <th>Applicant's Policy Product Name</th>\n",
       "      <td>-0.064558</td>\n",
       "      <td>-0.089297</td>\n",
       "      <td>0.108216</td>\n",
       "      <td>0.158689</td>\n",
       "      <td>0</td>\n",
       "    </tr>\n",
       "    <tr>\n",
       "      <th>Applicant's Policy Price Sensitivity(1-'Yes', 0-'No')</th>\n",
       "      <td>0.412117</td>\n",
       "      <td>-0.171767</td>\n",
       "      <td>0.040152</td>\n",
       "      <td>0.077240</td>\n",
       "      <td>0</td>\n",
       "    </tr>\n",
       "    <tr>\n",
       "      <th>Applicant's Policy Risk Cessation Term</th>\n",
       "      <td>0.403518</td>\n",
       "      <td>-0.170406</td>\n",
       "      <td>-0.010301</td>\n",
       "      <td>0.017579</td>\n",
       "      <td>0</td>\n",
       "    </tr>\n",
       "    <tr>\n",
       "      <th>Applicant's Policy Rider Opted Flag(1-'Yes', 0-'No')</th>\n",
       "      <td>0.010907</td>\n",
       "      <td>-0.074059</td>\n",
       "      <td>0.025953</td>\n",
       "      <td>0.316710</td>\n",
       "      <td>0</td>\n",
       "    </tr>\n",
       "    <tr>\n",
       "      <th>Applicant's Policy Sum Assured</th>\n",
       "      <td>0.373010</td>\n",
       "      <td>-0.047407</td>\n",
       "      <td>0.292914</td>\n",
       "      <td>0.184110</td>\n",
       "      <td>0</td>\n",
       "    </tr>\n",
       "    <tr>\n",
       "      <th>smoker_drinker</th>\n",
       "      <td>0.107931</td>\n",
       "      <td>-0.029214</td>\n",
       "      <td>-0.009411</td>\n",
       "      <td>0.177303</td>\n",
       "      <td>0</td>\n",
       "    </tr>\n",
       "  </tbody>\n",
       "</table>\n",
       "</div>"
      ],
      "text/plain": [
       "                                                         PC1       PC2  \\\n",
       "Total Risk Exposure of HDFC Life w.r.t. Life As...  0.294260 -0.013707   \n",
       "Application  Life Assured Gender                    0.032414 -0.112513   \n",
       "First Premium Payment Type                         -0.013769 -0.060008   \n",
       "Applicant's Policy Product Name                    -0.064558 -0.089297   \n",
       "Applicant's Policy Price Sensitivity(1-'Yes', 0...  0.412117 -0.171767   \n",
       "Applicant's Policy Risk Cessation Term              0.403518 -0.170406   \n",
       "Applicant's Policy Rider Opted Flag(1-'Yes', 0-...  0.010907 -0.074059   \n",
       "Applicant's Policy Sum Assured                      0.373010 -0.047407   \n",
       "smoker_drinker                                      0.107931 -0.029214   \n",
       "\n",
       "                                                         PC3       PC4  \\\n",
       "Total Risk Exposure of HDFC Life w.r.t. Life As...  0.301968  0.175979   \n",
       "Application  Life Assured Gender                   -0.016807  0.163821   \n",
       "First Premium Payment Type                         -0.101562  0.247782   \n",
       "Applicant's Policy Product Name                     0.108216  0.158689   \n",
       "Applicant's Policy Price Sensitivity(1-'Yes', 0...  0.040152  0.077240   \n",
       "Applicant's Policy Risk Cessation Term             -0.010301  0.017579   \n",
       "Applicant's Policy Rider Opted Flag(1-'Yes', 0-...  0.025953  0.316710   \n",
       "Applicant's Policy Sum Assured                      0.292914  0.184110   \n",
       "smoker_drinker                                     -0.009411  0.177303   \n",
       "\n",
       "                                                    Cluster  \n",
       "Total Risk Exposure of HDFC Life w.r.t. Life As...        0  \n",
       "Application  Life Assured Gender                          0  \n",
       "First Premium Payment Type                                0  \n",
       "Applicant's Policy Product Name                           0  \n",
       "Applicant's Policy Price Sensitivity(1-'Yes', 0...        0  \n",
       "Applicant's Policy Risk Cessation Term                    0  \n",
       "Applicant's Policy Rider Opted Flag(1-'Yes', 0-...        0  \n",
       "Applicant's Policy Sum Assured                            0  \n",
       "smoker_drinker                                            0  "
      ]
     },
     "execution_count": 66,
     "metadata": {},
     "output_type": "execute_result"
    }
   ],
   "source": [
    "df_train_2[df_train_2.Cluster == 0]"
   ]
  },
  {
   "cell_type": "code",
   "execution_count": 67,
   "id": "140578ef",
   "metadata": {},
   "outputs": [
    {
     "data": {
      "text/html": [
       "<div>\n",
       "<style scoped>\n",
       "    .dataframe tbody tr th:only-of-type {\n",
       "        vertical-align: middle;\n",
       "    }\n",
       "\n",
       "    .dataframe tbody tr th {\n",
       "        vertical-align: top;\n",
       "    }\n",
       "\n",
       "    .dataframe thead th {\n",
       "        text-align: right;\n",
       "    }\n",
       "</style>\n",
       "<table border=\"1\" class=\"dataframe\">\n",
       "  <thead>\n",
       "    <tr style=\"text-align: right;\">\n",
       "      <th></th>\n",
       "      <th>PC1</th>\n",
       "      <th>PC2</th>\n",
       "      <th>PC3</th>\n",
       "      <th>PC4</th>\n",
       "      <th>Cluster</th>\n",
       "    </tr>\n",
       "  </thead>\n",
       "  <tbody>\n",
       "    <tr>\n",
       "      <th>Mapped Agent 13M Persistency</th>\n",
       "      <td>0.012756</td>\n",
       "      <td>0.047400</td>\n",
       "      <td>0.066413</td>\n",
       "      <td>-0.052496</td>\n",
       "      <td>1</td>\n",
       "    </tr>\n",
       "    <tr>\n",
       "      <th>Applicant's Policy Annualized Premium</th>\n",
       "      <td>0.008479</td>\n",
       "      <td>0.231326</td>\n",
       "      <td>0.365273</td>\n",
       "      <td>0.009720</td>\n",
       "      <td>1</td>\n",
       "    </tr>\n",
       "    <tr>\n",
       "      <th>Mapped Agent Vintage</th>\n",
       "      <td>-0.034121</td>\n",
       "      <td>0.025403</td>\n",
       "      <td>0.158753</td>\n",
       "      <td>-0.025747</td>\n",
       "      <td>1</td>\n",
       "    </tr>\n",
       "    <tr>\n",
       "      <th>Auto Debit of Premium Opted Flag(Yes/No)</th>\n",
       "      <td>-0.012765</td>\n",
       "      <td>0.055738</td>\n",
       "      <td>0.277102</td>\n",
       "      <td>-0.449762</td>\n",
       "      <td>1</td>\n",
       "    </tr>\n",
       "    <tr>\n",
       "      <th>Application Life Assured BMI</th>\n",
       "      <td>0.036669</td>\n",
       "      <td>0.013409</td>\n",
       "      <td>-0.003667</td>\n",
       "      <td>-0.032329</td>\n",
       "      <td>1</td>\n",
       "    </tr>\n",
       "    <tr>\n",
       "      <th>Application  Sourcing Channel</th>\n",
       "      <td>0.086860</td>\n",
       "      <td>-0.093385</td>\n",
       "      <td>-0.158205</td>\n",
       "      <td>-0.222266</td>\n",
       "      <td>1</td>\n",
       "    </tr>\n",
       "    <tr>\n",
       "      <th>Application  Life Assured Age</th>\n",
       "      <td>-0.004817</td>\n",
       "      <td>0.002046</td>\n",
       "      <td>-0.135836</td>\n",
       "      <td>-0.115995</td>\n",
       "      <td>1</td>\n",
       "    </tr>\n",
       "    <tr>\n",
       "      <th>Application  Life Assured Education</th>\n",
       "      <td>0.034240</td>\n",
       "      <td>0.075951</td>\n",
       "      <td>-0.018518</td>\n",
       "      <td>0.003350</td>\n",
       "      <td>1</td>\n",
       "    </tr>\n",
       "    <tr>\n",
       "      <th>Application  Life Assured Income</th>\n",
       "      <td>0.114612</td>\n",
       "      <td>0.151261</td>\n",
       "      <td>0.340856</td>\n",
       "      <td>0.072035</td>\n",
       "      <td>1</td>\n",
       "    </tr>\n",
       "    <tr>\n",
       "      <th>Application  Life Assured Industry</th>\n",
       "      <td>0.094432</td>\n",
       "      <td>0.125303</td>\n",
       "      <td>0.072893</td>\n",
       "      <td>-0.059192</td>\n",
       "      <td>1</td>\n",
       "    </tr>\n",
       "    <tr>\n",
       "      <th>Application  Life Assured Marital Status</th>\n",
       "      <td>0.020728</td>\n",
       "      <td>0.022355</td>\n",
       "      <td>-0.086814</td>\n",
       "      <td>-0.092301</td>\n",
       "      <td>1</td>\n",
       "    </tr>\n",
       "    <tr>\n",
       "      <th>Application  Life Assured Occupation</th>\n",
       "      <td>0.051489</td>\n",
       "      <td>0.116132</td>\n",
       "      <td>0.081099</td>\n",
       "      <td>-0.065039</td>\n",
       "      <td>1</td>\n",
       "    </tr>\n",
       "    <tr>\n",
       "      <th>Applicant's Policy PAR/NON PAR/ULIP Tag</th>\n",
       "      <td>-0.406996</td>\n",
       "      <td>0.173181</td>\n",
       "      <td>0.111659</td>\n",
       "      <td>0.089917</td>\n",
       "      <td>1</td>\n",
       "    </tr>\n",
       "    <tr>\n",
       "      <th>Application Specific Sourcing Partner</th>\n",
       "      <td>0.147531</td>\n",
       "      <td>-0.051108</td>\n",
       "      <td>-0.179284</td>\n",
       "      <td>-0.212687</td>\n",
       "      <td>1</td>\n",
       "    </tr>\n",
       "    <tr>\n",
       "      <th>Applicant's Policy Product Category</th>\n",
       "      <td>0.236616</td>\n",
       "      <td>-0.095876</td>\n",
       "      <td>-0.222502</td>\n",
       "      <td>-0.224706</td>\n",
       "      <td>1</td>\n",
       "    </tr>\n",
       "    <tr>\n",
       "      <th>Applicant's Policy Premium Payment Frequency</th>\n",
       "      <td>0.063277</td>\n",
       "      <td>0.034052</td>\n",
       "      <td>0.054508</td>\n",
       "      <td>-0.064120</td>\n",
       "      <td>1</td>\n",
       "    </tr>\n",
       "    <tr>\n",
       "      <th>Application Life Assured Residential Status</th>\n",
       "      <td>-0.001939</td>\n",
       "      <td>-0.008362</td>\n",
       "      <td>-0.008739</td>\n",
       "      <td>0.079744</td>\n",
       "      <td>1</td>\n",
       "    </tr>\n",
       "    <tr>\n",
       "      <th>Application Sourcing Sub Channel</th>\n",
       "      <td>0.210186</td>\n",
       "      <td>-0.091899</td>\n",
       "      <td>-0.179962</td>\n",
       "      <td>-0.205666</td>\n",
       "      <td>1</td>\n",
       "    </tr>\n",
       "    <tr>\n",
       "      <th>HDFC Life Operational Zone</th>\n",
       "      <td>0.116988</td>\n",
       "      <td>0.076210</td>\n",
       "      <td>0.096077</td>\n",
       "      <td>-0.148061</td>\n",
       "      <td>1</td>\n",
       "    </tr>\n",
       "    <tr>\n",
       "      <th>Application Login year</th>\n",
       "      <td>-0.001788</td>\n",
       "      <td>-0.024298</td>\n",
       "      <td>-0.106597</td>\n",
       "      <td>-0.094024</td>\n",
       "      <td>1</td>\n",
       "    </tr>\n",
       "    <tr>\n",
       "      <th>Application Login month</th>\n",
       "      <td>0.017133</td>\n",
       "      <td>0.000666</td>\n",
       "      <td>0.106410</td>\n",
       "      <td>0.014042</td>\n",
       "      <td>1</td>\n",
       "    </tr>\n",
       "    <tr>\n",
       "      <th>Application Login day</th>\n",
       "      <td>0.000918</td>\n",
       "      <td>0.024158</td>\n",
       "      <td>0.048819</td>\n",
       "      <td>-0.004592</td>\n",
       "      <td>1</td>\n",
       "    </tr>\n",
       "    <tr>\n",
       "      <th>Target</th>\n",
       "      <td>0.005982</td>\n",
       "      <td>0.079575</td>\n",
       "      <td>0.283843</td>\n",
       "      <td>-0.404897</td>\n",
       "      <td>1</td>\n",
       "    </tr>\n",
       "  </tbody>\n",
       "</table>\n",
       "</div>"
      ],
      "text/plain": [
       "                                                   PC1       PC2       PC3  \\\n",
       "Mapped Agent 13M Persistency                  0.012756  0.047400  0.066413   \n",
       "Applicant's Policy Annualized Premium         0.008479  0.231326  0.365273   \n",
       "Mapped Agent Vintage                         -0.034121  0.025403  0.158753   \n",
       "Auto Debit of Premium Opted Flag(Yes/No)     -0.012765  0.055738  0.277102   \n",
       "Application Life Assured BMI                  0.036669  0.013409 -0.003667   \n",
       "Application  Sourcing Channel                 0.086860 -0.093385 -0.158205   \n",
       "Application  Life Assured Age                -0.004817  0.002046 -0.135836   \n",
       "Application  Life Assured Education           0.034240  0.075951 -0.018518   \n",
       "Application  Life Assured Income              0.114612  0.151261  0.340856   \n",
       "Application  Life Assured Industry            0.094432  0.125303  0.072893   \n",
       "Application  Life Assured Marital Status      0.020728  0.022355 -0.086814   \n",
       "Application  Life Assured Occupation          0.051489  0.116132  0.081099   \n",
       "Applicant's Policy PAR/NON PAR/ULIP Tag      -0.406996  0.173181  0.111659   \n",
       "Application Specific Sourcing Partner         0.147531 -0.051108 -0.179284   \n",
       "Applicant's Policy Product Category           0.236616 -0.095876 -0.222502   \n",
       "Applicant's Policy Premium Payment Frequency  0.063277  0.034052  0.054508   \n",
       "Application Life Assured Residential Status  -0.001939 -0.008362 -0.008739   \n",
       "Application Sourcing Sub Channel              0.210186 -0.091899 -0.179962   \n",
       "HDFC Life Operational Zone                    0.116988  0.076210  0.096077   \n",
       "Application Login year                       -0.001788 -0.024298 -0.106597   \n",
       "Application Login month                       0.017133  0.000666  0.106410   \n",
       "Application Login day                         0.000918  0.024158  0.048819   \n",
       "Target                                        0.005982  0.079575  0.283843   \n",
       "\n",
       "                                                   PC4  Cluster  \n",
       "Mapped Agent 13M Persistency                 -0.052496        1  \n",
       "Applicant's Policy Annualized Premium         0.009720        1  \n",
       "Mapped Agent Vintage                         -0.025747        1  \n",
       "Auto Debit of Premium Opted Flag(Yes/No)     -0.449762        1  \n",
       "Application Life Assured BMI                 -0.032329        1  \n",
       "Application  Sourcing Channel                -0.222266        1  \n",
       "Application  Life Assured Age                -0.115995        1  \n",
       "Application  Life Assured Education           0.003350        1  \n",
       "Application  Life Assured Income              0.072035        1  \n",
       "Application  Life Assured Industry           -0.059192        1  \n",
       "Application  Life Assured Marital Status     -0.092301        1  \n",
       "Application  Life Assured Occupation         -0.065039        1  \n",
       "Applicant's Policy PAR/NON PAR/ULIP Tag       0.089917        1  \n",
       "Application Specific Sourcing Partner        -0.212687        1  \n",
       "Applicant's Policy Product Category          -0.224706        1  \n",
       "Applicant's Policy Premium Payment Frequency -0.064120        1  \n",
       "Application Life Assured Residential Status   0.079744        1  \n",
       "Application Sourcing Sub Channel             -0.205666        1  \n",
       "HDFC Life Operational Zone                   -0.148061        1  \n",
       "Application Login year                       -0.094024        1  \n",
       "Application Login month                       0.014042        1  \n",
       "Application Login day                        -0.004592        1  \n",
       "Target                                       -0.404897        1  "
      ]
     },
     "execution_count": 67,
     "metadata": {},
     "output_type": "execute_result"
    }
   ],
   "source": [
    "df_train_2[df_train_2.Cluster == 1]"
   ]
  },
  {
   "cell_type": "code",
   "execution_count": 68,
   "id": "c83a2b4f",
   "metadata": {},
   "outputs": [
    {
     "data": {
      "text/html": [
       "<div>\n",
       "<style scoped>\n",
       "    .dataframe tbody tr th:only-of-type {\n",
       "        vertical-align: middle;\n",
       "    }\n",
       "\n",
       "    .dataframe tbody tr th {\n",
       "        vertical-align: top;\n",
       "    }\n",
       "\n",
       "    .dataframe thead th {\n",
       "        text-align: right;\n",
       "    }\n",
       "</style>\n",
       "<table border=\"1\" class=\"dataframe\">\n",
       "  <thead>\n",
       "    <tr style=\"text-align: right;\">\n",
       "      <th></th>\n",
       "      <th>PC1</th>\n",
       "      <th>PC2</th>\n",
       "      <th>PC3</th>\n",
       "      <th>PC4</th>\n",
       "      <th>Cluster</th>\n",
       "    </tr>\n",
       "  </thead>\n",
       "  <tbody>\n",
       "    <tr>\n",
       "      <th>Application  Life Assured City</th>\n",
       "      <td>-0.108345</td>\n",
       "      <td>-0.421509</td>\n",
       "      <td>0.119447</td>\n",
       "      <td>-0.069654</td>\n",
       "      <td>2</td>\n",
       "    </tr>\n",
       "    <tr>\n",
       "      <th>Application  Life Assured City Tier</th>\n",
       "      <td>-0.155918</td>\n",
       "      <td>-0.388756</td>\n",
       "      <td>0.026226</td>\n",
       "      <td>0.048397</td>\n",
       "      <td>2</td>\n",
       "    </tr>\n",
       "    <tr>\n",
       "      <th>Application Life Assured State</th>\n",
       "      <td>-0.052228</td>\n",
       "      <td>-0.209446</td>\n",
       "      <td>0.004866</td>\n",
       "      <td>0.076736</td>\n",
       "      <td>2</td>\n",
       "    </tr>\n",
       "    <tr>\n",
       "      <th>Mapped Agent city</th>\n",
       "      <td>-0.150347</td>\n",
       "      <td>-0.402037</td>\n",
       "      <td>0.254785</td>\n",
       "      <td>-0.111672</td>\n",
       "      <td>2</td>\n",
       "    </tr>\n",
       "    <tr>\n",
       "      <th>Applicant's Policy Contract city</th>\n",
       "      <td>-0.143759</td>\n",
       "      <td>-0.427330</td>\n",
       "      <td>0.233764</td>\n",
       "      <td>-0.124458</td>\n",
       "      <td>2</td>\n",
       "    </tr>\n",
       "  </tbody>\n",
       "</table>\n",
       "</div>"
      ],
      "text/plain": [
       "                                          PC1       PC2       PC3       PC4  \\\n",
       "Application  Life Assured City      -0.108345 -0.421509  0.119447 -0.069654   \n",
       "Application  Life Assured City Tier -0.155918 -0.388756  0.026226  0.048397   \n",
       "Application Life Assured State      -0.052228 -0.209446  0.004866  0.076736   \n",
       "Mapped Agent city                   -0.150347 -0.402037  0.254785 -0.111672   \n",
       "Applicant's Policy Contract city    -0.143759 -0.427330  0.233764 -0.124458   \n",
       "\n",
       "                                     Cluster  \n",
       "Application  Life Assured City             2  \n",
       "Application  Life Assured City Tier        2  \n",
       "Application Life Assured State             2  \n",
       "Mapped Agent city                          2  \n",
       "Applicant's Policy Contract city           2  "
      ]
     },
     "execution_count": 68,
     "metadata": {},
     "output_type": "execute_result"
    }
   ],
   "source": [
    "df_train_2[df_train_2.Cluster == 2]"
   ]
  },
  {
   "cell_type": "code",
   "execution_count": 70,
   "id": "655258cc",
   "metadata": {},
   "outputs": [
    {
     "data": {
      "text/plain": [
       "KMeans(n_clusters=5, random_state=42)"
      ]
     },
     "execution_count": 70,
     "metadata": {},
     "output_type": "execute_result"
    }
   ],
   "source": [
    "k = 5\n",
    "clusters = KMeans( k, random_state = 42 )\n",
    "clusters.fit(df_train_1)"
   ]
  },
  {
   "cell_type": "code",
   "execution_count": 71,
   "id": "1e628a3a",
   "metadata": {},
   "outputs": [],
   "source": [
    "y = pd.DataFrame(clusters.labels_)"
   ]
  },
  {
   "cell_type": "code",
   "execution_count": 72,
   "id": "6fa28050",
   "metadata": {},
   "outputs": [],
   "source": [
    "y.column = 'Cluster'"
   ]
  },
  {
   "cell_type": "code",
   "execution_count": 73,
   "id": "d24b8c1e",
   "metadata": {},
   "outputs": [],
   "source": [
    "df_2 = df_train.copy()"
   ]
  },
  {
   "cell_type": "code",
   "execution_count": 74,
   "id": "bc37e436",
   "metadata": {},
   "outputs": [],
   "source": [
    "df_2['Cluster'] = y"
   ]
  },
  {
   "cell_type": "code",
   "execution_count": 76,
   "id": "2bc5afc6",
   "metadata": {},
   "outputs": [],
   "source": [
    "Cluster_1 = df_2[df_2.Cluster == 0]"
   ]
  },
  {
   "cell_type": "code",
   "execution_count": 77,
   "id": "781ebfdb",
   "metadata": {},
   "outputs": [],
   "source": [
    "Cluster_2 = df_2[df_2.Cluster == 1]"
   ]
  },
  {
   "cell_type": "code",
   "execution_count": 78,
   "id": "10b6987d",
   "metadata": {},
   "outputs": [],
   "source": [
    "Cluster_3 = df_2[df_2.Cluster == 2]"
   ]
  },
  {
   "cell_type": "code",
   "execution_count": 79,
   "id": "7dbb0e27",
   "metadata": {},
   "outputs": [],
   "source": [
    "Cluster_4 = df_2[df_2.Cluster == 3]"
   ]
  },
  {
   "cell_type": "code",
   "execution_count": 80,
   "id": "18dc9991",
   "metadata": {},
   "outputs": [],
   "source": [
    "Cluster_5 = df_2[df_2.Cluster == 4]"
   ]
  },
  {
   "cell_type": "code",
   "execution_count": 81,
   "id": "864082fc",
   "metadata": {},
   "outputs": [
    {
     "data": {
      "text/plain": [
       "1    6396\n",
       "0    2160\n",
       "Name: Target, dtype: int64"
      ]
     },
     "execution_count": 81,
     "metadata": {},
     "output_type": "execute_result"
    }
   ],
   "source": [
    "Cluster_1['Target'].value_counts()"
   ]
  },
  {
   "cell_type": "code",
   "execution_count": 82,
   "id": "9f4e666c",
   "metadata": {},
   "outputs": [
    {
     "data": {
      "text/plain": [
       "1    3823\n",
       "0     735\n",
       "Name: Target, dtype: int64"
      ]
     },
     "execution_count": 82,
     "metadata": {},
     "output_type": "execute_result"
    }
   ],
   "source": [
    "Cluster_2['Target'].value_counts()"
   ]
  },
  {
   "cell_type": "code",
   "execution_count": 83,
   "id": "f5adb179",
   "metadata": {},
   "outputs": [
    {
     "data": {
      "text/plain": [
       "1    2081\n",
       "0     513\n",
       "Name: Target, dtype: int64"
      ]
     },
     "execution_count": 83,
     "metadata": {},
     "output_type": "execute_result"
    }
   ],
   "source": [
    "Cluster_3['Target'].value_counts()"
   ]
  },
  {
   "cell_type": "code",
   "execution_count": 84,
   "id": "21e7a1fd",
   "metadata": {},
   "outputs": [
    {
     "data": {
      "text/plain": [
       "1    4768\n",
       "0     956\n",
       "Name: Target, dtype: int64"
      ]
     },
     "execution_count": 84,
     "metadata": {},
     "output_type": "execute_result"
    }
   ],
   "source": [
    "Cluster_4['Target'].value_counts()"
   ]
  },
  {
   "cell_type": "code",
   "execution_count": 85,
   "id": "3359a7ba",
   "metadata": {},
   "outputs": [
    {
     "data": {
      "text/plain": [
       "1    2645\n",
       "0    1243\n",
       "Name: Target, dtype: int64"
      ]
     },
     "execution_count": 85,
     "metadata": {},
     "output_type": "execute_result"
    }
   ],
   "source": [
    "Cluster_5['Target'].value_counts()"
   ]
  },
  {
   "cell_type": "markdown",
   "id": "bf721faf",
   "metadata": {},
   "source": [
    "### 4.2 KModes\n",
    "\n",
    "KModes clustering is an unsupervised Machine Learning technique for grouping categorical data. KMeans clusters continuous data using mathematical metrics (distance). The closer our data points are together, the shorter the distance. Means is responsible for keeping centroids up to date."
   ]
  },
  {
   "cell_type": "code",
   "execution_count": 87,
   "id": "1dfea07c",
   "metadata": {},
   "outputs": [],
   "source": [
    "from kmodes.kmodes import KModes"
   ]
  },
  {
   "cell_type": "code",
   "execution_count": 88,
   "id": "f8b2035b",
   "metadata": {},
   "outputs": [
    {
     "name": "stdout",
     "output_type": "stream",
     "text": [
      "Init: initializing centroids\n",
      "Init: initializing clusters\n",
      "Starting iterations...\n",
      "Run 1, iteration: 1/100, moves: 7093, cost: 391723.0\n",
      "Run 1, iteration: 2/100, moves: 1075, cost: 391344.0\n",
      "Run 1, iteration: 3/100, moves: 237, cost: 391344.0\n"
     ]
    }
   ],
   "source": [
    "km_cao = KModes(n_clusters=5, init = \"Cao\", n_init = 1, verbose=1)\n",
    "fitClusters_cao = km_cao.fit_predict(df_train)"
   ]
  },
  {
   "cell_type": "code",
   "execution_count": 89,
   "id": "06794b5a",
   "metadata": {},
   "outputs": [
    {
     "data": {
      "text/plain": [
       "array([3, 4, 2, ..., 0, 2, 4], dtype=uint16)"
      ]
     },
     "execution_count": 89,
     "metadata": {},
     "output_type": "execute_result"
    }
   ],
   "source": [
    "fitClusters_cao"
   ]
  },
  {
   "cell_type": "code",
   "execution_count": 90,
   "id": "32c0fa32",
   "metadata": {},
   "outputs": [],
   "source": [
    "clusterCentroidsDf = pd.DataFrame(km_cao.cluster_centroids_)\n",
    "clusterCentroidsDf.columns = df_train.columns"
   ]
  },
  {
   "cell_type": "markdown",
   "id": "90874c03",
   "metadata": {},
   "source": [
    "The centre of the clusters may be calculated by dividing the total by the number of cluster members. In the above example, 283 divided by four equals 70.75, and 213 divided by four equals 53.25, indicating that the cluster's centroid is (70.75, 53.25)"
   ]
  },
  {
   "cell_type": "code",
   "execution_count": 91,
   "id": "1cf4ce58",
   "metadata": {},
   "outputs": [
    {
     "data": {
      "text/html": [
       "<div>\n",
       "<style scoped>\n",
       "    .dataframe tbody tr th:only-of-type {\n",
       "        vertical-align: middle;\n",
       "    }\n",
       "\n",
       "    .dataframe tbody tr th {\n",
       "        vertical-align: top;\n",
       "    }\n",
       "\n",
       "    .dataframe thead th {\n",
       "        text-align: right;\n",
       "    }\n",
       "</style>\n",
       "<table border=\"1\" class=\"dataframe\">\n",
       "  <thead>\n",
       "    <tr style=\"text-align: right;\">\n",
       "      <th></th>\n",
       "      <th>Mapped Agent 13M Persistency</th>\n",
       "      <th>Applicant's Policy Annualized Premium</th>\n",
       "      <th>Mapped Agent Vintage</th>\n",
       "      <th>Auto Debit of Premium Opted Flag(Yes/No)</th>\n",
       "      <th>Application Life Assured BMI</th>\n",
       "      <th>Total Risk Exposure of HDFC Life w.r.t. Life Assured</th>\n",
       "      <th>Application  Sourcing Channel</th>\n",
       "      <th>Application  Life Assured City</th>\n",
       "      <th>Application  Life Assured City Tier</th>\n",
       "      <th>Application  Life Assured Age</th>\n",
       "      <th>...</th>\n",
       "      <th>Application Sourcing Sub Channel</th>\n",
       "      <th>Applicant's Policy Sum Assured</th>\n",
       "      <th>HDFC Life Operational Zone</th>\n",
       "      <th>Application Login year</th>\n",
       "      <th>Application Login month</th>\n",
       "      <th>Application Login day</th>\n",
       "      <th>Mapped Agent city</th>\n",
       "      <th>Applicant's Policy Contract city</th>\n",
       "      <th>Target</th>\n",
       "      <th>smoker_drinker</th>\n",
       "    </tr>\n",
       "  </thead>\n",
       "  <tbody>\n",
       "    <tr>\n",
       "      <th>0</th>\n",
       "      <td>80.18</td>\n",
       "      <td>50000.0</td>\n",
       "      <td>12.0</td>\n",
       "      <td>1.0</td>\n",
       "      <td>2.0</td>\n",
       "      <td>500000.0</td>\n",
       "      <td>2.0</td>\n",
       "      <td>10.0</td>\n",
       "      <td>2.0</td>\n",
       "      <td>1.0</td>\n",
       "      <td>...</td>\n",
       "      <td>1.0</td>\n",
       "      <td>1000000.0</td>\n",
       "      <td>1.0</td>\n",
       "      <td>2018.0</td>\n",
       "      <td>3.0</td>\n",
       "      <td>1.0</td>\n",
       "      <td>10.0</td>\n",
       "      <td>13.0</td>\n",
       "      <td>1.0</td>\n",
       "      <td>0.0</td>\n",
       "    </tr>\n",
       "    <tr>\n",
       "      <th>1</th>\n",
       "      <td>80.18</td>\n",
       "      <td>100000.0</td>\n",
       "      <td>84.0</td>\n",
       "      <td>1.0</td>\n",
       "      <td>3.0</td>\n",
       "      <td>5000000.0</td>\n",
       "      <td>0.0</td>\n",
       "      <td>8.0</td>\n",
       "      <td>0.0</td>\n",
       "      <td>0.0</td>\n",
       "      <td>...</td>\n",
       "      <td>0.0</td>\n",
       "      <td>5000000.0</td>\n",
       "      <td>5.0</td>\n",
       "      <td>2018.0</td>\n",
       "      <td>3.0</td>\n",
       "      <td>1.0</td>\n",
       "      <td>8.0</td>\n",
       "      <td>10.0</td>\n",
       "      <td>1.0</td>\n",
       "      <td>0.0</td>\n",
       "    </tr>\n",
       "    <tr>\n",
       "      <th>2</th>\n",
       "      <td>80.18</td>\n",
       "      <td>30000.0</td>\n",
       "      <td>9.0</td>\n",
       "      <td>0.0</td>\n",
       "      <td>2.0</td>\n",
       "      <td>5000000.0</td>\n",
       "      <td>1.0</td>\n",
       "      <td>10.0</td>\n",
       "      <td>2.0</td>\n",
       "      <td>3.0</td>\n",
       "      <td>...</td>\n",
       "      <td>3.0</td>\n",
       "      <td>5000000.0</td>\n",
       "      <td>5.0</td>\n",
       "      <td>2018.0</td>\n",
       "      <td>1.0</td>\n",
       "      <td>29.0</td>\n",
       "      <td>10.0</td>\n",
       "      <td>13.0</td>\n",
       "      <td>1.0</td>\n",
       "      <td>0.0</td>\n",
       "    </tr>\n",
       "    <tr>\n",
       "      <th>3</th>\n",
       "      <td>80.18</td>\n",
       "      <td>398120.0</td>\n",
       "      <td>11.0</td>\n",
       "      <td>1.0</td>\n",
       "      <td>2.0</td>\n",
       "      <td>5000000.0</td>\n",
       "      <td>2.0</td>\n",
       "      <td>10.0</td>\n",
       "      <td>0.0</td>\n",
       "      <td>3.0</td>\n",
       "      <td>...</td>\n",
       "      <td>1.0</td>\n",
       "      <td>5000000.0</td>\n",
       "      <td>5.0</td>\n",
       "      <td>2018.0</td>\n",
       "      <td>12.0</td>\n",
       "      <td>31.0</td>\n",
       "      <td>10.0</td>\n",
       "      <td>13.0</td>\n",
       "      <td>1.0</td>\n",
       "      <td>0.0</td>\n",
       "    </tr>\n",
       "    <tr>\n",
       "      <th>4</th>\n",
       "      <td>80.18</td>\n",
       "      <td>25000.0</td>\n",
       "      <td>13.0</td>\n",
       "      <td>0.0</td>\n",
       "      <td>3.0</td>\n",
       "      <td>250000.0</td>\n",
       "      <td>2.0</td>\n",
       "      <td>10.0</td>\n",
       "      <td>2.0</td>\n",
       "      <td>3.0</td>\n",
       "      <td>...</td>\n",
       "      <td>1.0</td>\n",
       "      <td>500000.0</td>\n",
       "      <td>5.0</td>\n",
       "      <td>2018.0</td>\n",
       "      <td>3.0</td>\n",
       "      <td>1.0</td>\n",
       "      <td>10.0</td>\n",
       "      <td>13.0</td>\n",
       "      <td>1.0</td>\n",
       "      <td>0.0</td>\n",
       "    </tr>\n",
       "  </tbody>\n",
       "</table>\n",
       "<p>5 rows × 37 columns</p>\n",
       "</div>"
      ],
      "text/plain": [
       "   Mapped Agent 13M Persistency  Applicant's Policy Annualized Premium  \\\n",
       "0                         80.18                                50000.0   \n",
       "1                         80.18                               100000.0   \n",
       "2                         80.18                                30000.0   \n",
       "3                         80.18                               398120.0   \n",
       "4                         80.18                                25000.0   \n",
       "\n",
       "   Mapped Agent Vintage  Auto Debit of Premium Opted Flag(Yes/No)  \\\n",
       "0                  12.0                                       1.0   \n",
       "1                  84.0                                       1.0   \n",
       "2                   9.0                                       0.0   \n",
       "3                  11.0                                       1.0   \n",
       "4                  13.0                                       0.0   \n",
       "\n",
       "   Application Life Assured BMI  \\\n",
       "0                           2.0   \n",
       "1                           3.0   \n",
       "2                           2.0   \n",
       "3                           2.0   \n",
       "4                           3.0   \n",
       "\n",
       "   Total Risk Exposure of HDFC Life w.r.t. Life Assured  \\\n",
       "0                                           500000.0      \n",
       "1                                          5000000.0      \n",
       "2                                          5000000.0      \n",
       "3                                          5000000.0      \n",
       "4                                           250000.0      \n",
       "\n",
       "   Application  Sourcing Channel  Application  Life Assured City  \\\n",
       "0                            2.0                            10.0   \n",
       "1                            0.0                             8.0   \n",
       "2                            1.0                            10.0   \n",
       "3                            2.0                            10.0   \n",
       "4                            2.0                            10.0   \n",
       "\n",
       "   Application  Life Assured City Tier  Application  Life Assured Age  ...  \\\n",
       "0                                  2.0                            1.0  ...   \n",
       "1                                  0.0                            0.0  ...   \n",
       "2                                  2.0                            3.0  ...   \n",
       "3                                  0.0                            3.0  ...   \n",
       "4                                  2.0                            3.0  ...   \n",
       "\n",
       "   Application Sourcing Sub Channel  Applicant's Policy Sum Assured  \\\n",
       "0                               1.0                       1000000.0   \n",
       "1                               0.0                       5000000.0   \n",
       "2                               3.0                       5000000.0   \n",
       "3                               1.0                       5000000.0   \n",
       "4                               1.0                        500000.0   \n",
       "\n",
       "   HDFC Life Operational Zone  Application Login year  \\\n",
       "0                         1.0                  2018.0   \n",
       "1                         5.0                  2018.0   \n",
       "2                         5.0                  2018.0   \n",
       "3                         5.0                  2018.0   \n",
       "4                         5.0                  2018.0   \n",
       "\n",
       "   Application Login month  Application Login day  Mapped Agent city  \\\n",
       "0                      3.0                    1.0               10.0   \n",
       "1                      3.0                    1.0                8.0   \n",
       "2                      1.0                   29.0               10.0   \n",
       "3                     12.0                   31.0               10.0   \n",
       "4                      3.0                    1.0               10.0   \n",
       "\n",
       "   Applicant's Policy Contract city  Target  smoker_drinker  \n",
       "0                              13.0     1.0             0.0  \n",
       "1                              10.0     1.0             0.0  \n",
       "2                              13.0     1.0             0.0  \n",
       "3                              13.0     1.0             0.0  \n",
       "4                              13.0     1.0             0.0  \n",
       "\n",
       "[5 rows x 37 columns]"
      ]
     },
     "execution_count": 91,
     "metadata": {},
     "output_type": "execute_result"
    }
   ],
   "source": [
    "clusterCentroidsDf"
   ]
  },
  {
   "cell_type": "code",
   "execution_count": 92,
   "id": "f196d23b",
   "metadata": {},
   "outputs": [
    {
     "name": "stdout",
     "output_type": "stream",
     "text": [
      "Init: initializing centroids\n",
      "Init: initializing clusters\n",
      "Starting iterations...\n",
      "Run 1, iteration: 1/100, moves: 10002, cost: 398549.0\n",
      "Run 1, iteration: 2/100, moves: 295, cost: 398549.0\n"
     ]
    }
   ],
   "source": [
    "km_huang = KModes(n_clusters=5, init = \"Huang\", n_init = 1, verbose=1)\n",
    "fitClusters_huang = km_huang.fit_predict(df_train)"
   ]
  },
  {
   "cell_type": "code",
   "execution_count": 93,
   "id": "c4f87c1f",
   "metadata": {},
   "outputs": [
    {
     "data": {
      "text/plain": [
       "array([0, 1, 3, ..., 4, 2, 2], dtype=uint16)"
      ]
     },
     "execution_count": 93,
     "metadata": {},
     "output_type": "execute_result"
    }
   ],
   "source": [
    "fitClusters_huang"
   ]
  },
  {
   "cell_type": "code",
   "execution_count": 94,
   "id": "0c5e1b9e",
   "metadata": {},
   "outputs": [],
   "source": [
    "clusterCentroidsDf = pd.DataFrame(km_huang.cluster_centroids_)\n",
    "clusterCentroidsDf.columns = df_train.columns"
   ]
  },
  {
   "cell_type": "code",
   "execution_count": 95,
   "id": "edc10e2a",
   "metadata": {},
   "outputs": [
    {
     "data": {
      "text/html": [
       "<div>\n",
       "<style scoped>\n",
       "    .dataframe tbody tr th:only-of-type {\n",
       "        vertical-align: middle;\n",
       "    }\n",
       "\n",
       "    .dataframe tbody tr th {\n",
       "        vertical-align: top;\n",
       "    }\n",
       "\n",
       "    .dataframe thead th {\n",
       "        text-align: right;\n",
       "    }\n",
       "</style>\n",
       "<table border=\"1\" class=\"dataframe\">\n",
       "  <thead>\n",
       "    <tr style=\"text-align: right;\">\n",
       "      <th></th>\n",
       "      <th>Mapped Agent 13M Persistency</th>\n",
       "      <th>Applicant's Policy Annualized Premium</th>\n",
       "      <th>Mapped Agent Vintage</th>\n",
       "      <th>Auto Debit of Premium Opted Flag(Yes/No)</th>\n",
       "      <th>Application Life Assured BMI</th>\n",
       "      <th>Total Risk Exposure of HDFC Life w.r.t. Life Assured</th>\n",
       "      <th>Application  Sourcing Channel</th>\n",
       "      <th>Application  Life Assured City</th>\n",
       "      <th>Application  Life Assured City Tier</th>\n",
       "      <th>Application  Life Assured Age</th>\n",
       "      <th>...</th>\n",
       "      <th>Application Sourcing Sub Channel</th>\n",
       "      <th>Applicant's Policy Sum Assured</th>\n",
       "      <th>HDFC Life Operational Zone</th>\n",
       "      <th>Application Login year</th>\n",
       "      <th>Application Login month</th>\n",
       "      <th>Application Login day</th>\n",
       "      <th>Mapped Agent city</th>\n",
       "      <th>Applicant's Policy Contract city</th>\n",
       "      <th>Target</th>\n",
       "      <th>smoker_drinker</th>\n",
       "    </tr>\n",
       "  </thead>\n",
       "  <tbody>\n",
       "    <tr>\n",
       "      <th>0</th>\n",
       "      <td>80.18</td>\n",
       "      <td>50000.0</td>\n",
       "      <td>20.0</td>\n",
       "      <td>1.0</td>\n",
       "      <td>3.0</td>\n",
       "      <td>500000.0</td>\n",
       "      <td>2.0</td>\n",
       "      <td>10.0</td>\n",
       "      <td>2.0</td>\n",
       "      <td>0.0</td>\n",
       "      <td>...</td>\n",
       "      <td>1.0</td>\n",
       "      <td>1000000.0</td>\n",
       "      <td>0.0</td>\n",
       "      <td>2018.0</td>\n",
       "      <td>1.0</td>\n",
       "      <td>29.0</td>\n",
       "      <td>10.0</td>\n",
       "      <td>13.0</td>\n",
       "      <td>1.0</td>\n",
       "      <td>0.0</td>\n",
       "    </tr>\n",
       "    <tr>\n",
       "      <th>1</th>\n",
       "      <td>80.18</td>\n",
       "      <td>100000.0</td>\n",
       "      <td>12.0</td>\n",
       "      <td>0.0</td>\n",
       "      <td>2.0</td>\n",
       "      <td>1000000.0</td>\n",
       "      <td>2.0</td>\n",
       "      <td>10.0</td>\n",
       "      <td>2.0</td>\n",
       "      <td>2.0</td>\n",
       "      <td>...</td>\n",
       "      <td>1.0</td>\n",
       "      <td>1000000.0</td>\n",
       "      <td>5.0</td>\n",
       "      <td>2018.0</td>\n",
       "      <td>7.0</td>\n",
       "      <td>20.0</td>\n",
       "      <td>10.0</td>\n",
       "      <td>13.0</td>\n",
       "      <td>1.0</td>\n",
       "      <td>0.0</td>\n",
       "    </tr>\n",
       "    <tr>\n",
       "      <th>2</th>\n",
       "      <td>80.18</td>\n",
       "      <td>30000.0</td>\n",
       "      <td>8.0</td>\n",
       "      <td>0.0</td>\n",
       "      <td>2.0</td>\n",
       "      <td>300000.0</td>\n",
       "      <td>2.0</td>\n",
       "      <td>10.0</td>\n",
       "      <td>2.0</td>\n",
       "      <td>3.0</td>\n",
       "      <td>...</td>\n",
       "      <td>1.0</td>\n",
       "      <td>600000.0</td>\n",
       "      <td>1.0</td>\n",
       "      <td>2018.0</td>\n",
       "      <td>3.0</td>\n",
       "      <td>27.0</td>\n",
       "      <td>10.0</td>\n",
       "      <td>13.0</td>\n",
       "      <td>1.0</td>\n",
       "      <td>0.0</td>\n",
       "    </tr>\n",
       "    <tr>\n",
       "      <th>3</th>\n",
       "      <td>80.18</td>\n",
       "      <td>25000.0</td>\n",
       "      <td>8.0</td>\n",
       "      <td>1.0</td>\n",
       "      <td>2.0</td>\n",
       "      <td>250000.0</td>\n",
       "      <td>2.0</td>\n",
       "      <td>10.0</td>\n",
       "      <td>1.0</td>\n",
       "      <td>0.0</td>\n",
       "      <td>...</td>\n",
       "      <td>1.0</td>\n",
       "      <td>500000.0</td>\n",
       "      <td>5.0</td>\n",
       "      <td>2018.0</td>\n",
       "      <td>12.0</td>\n",
       "      <td>1.0</td>\n",
       "      <td>10.0</td>\n",
       "      <td>13.0</td>\n",
       "      <td>1.0</td>\n",
       "      <td>0.0</td>\n",
       "    </tr>\n",
       "    <tr>\n",
       "      <th>4</th>\n",
       "      <td>80.18</td>\n",
       "      <td>50000.0</td>\n",
       "      <td>15.0</td>\n",
       "      <td>1.0</td>\n",
       "      <td>2.0</td>\n",
       "      <td>500000.0</td>\n",
       "      <td>2.0</td>\n",
       "      <td>10.0</td>\n",
       "      <td>1.0</td>\n",
       "      <td>2.0</td>\n",
       "      <td>...</td>\n",
       "      <td>1.0</td>\n",
       "      <td>500000.0</td>\n",
       "      <td>1.0</td>\n",
       "      <td>2018.0</td>\n",
       "      <td>1.0</td>\n",
       "      <td>1.0</td>\n",
       "      <td>10.0</td>\n",
       "      <td>13.0</td>\n",
       "      <td>1.0</td>\n",
       "      <td>0.0</td>\n",
       "    </tr>\n",
       "  </tbody>\n",
       "</table>\n",
       "<p>5 rows × 37 columns</p>\n",
       "</div>"
      ],
      "text/plain": [
       "   Mapped Agent 13M Persistency  Applicant's Policy Annualized Premium  \\\n",
       "0                         80.18                                50000.0   \n",
       "1                         80.18                               100000.0   \n",
       "2                         80.18                                30000.0   \n",
       "3                         80.18                                25000.0   \n",
       "4                         80.18                                50000.0   \n",
       "\n",
       "   Mapped Agent Vintage  Auto Debit of Premium Opted Flag(Yes/No)  \\\n",
       "0                  20.0                                       1.0   \n",
       "1                  12.0                                       0.0   \n",
       "2                   8.0                                       0.0   \n",
       "3                   8.0                                       1.0   \n",
       "4                  15.0                                       1.0   \n",
       "\n",
       "   Application Life Assured BMI  \\\n",
       "0                           3.0   \n",
       "1                           2.0   \n",
       "2                           2.0   \n",
       "3                           2.0   \n",
       "4                           2.0   \n",
       "\n",
       "   Total Risk Exposure of HDFC Life w.r.t. Life Assured  \\\n",
       "0                                           500000.0      \n",
       "1                                          1000000.0      \n",
       "2                                           300000.0      \n",
       "3                                           250000.0      \n",
       "4                                           500000.0      \n",
       "\n",
       "   Application  Sourcing Channel  Application  Life Assured City  \\\n",
       "0                            2.0                            10.0   \n",
       "1                            2.0                            10.0   \n",
       "2                            2.0                            10.0   \n",
       "3                            2.0                            10.0   \n",
       "4                            2.0                            10.0   \n",
       "\n",
       "   Application  Life Assured City Tier  Application  Life Assured Age  ...  \\\n",
       "0                                  2.0                            0.0  ...   \n",
       "1                                  2.0                            2.0  ...   \n",
       "2                                  2.0                            3.0  ...   \n",
       "3                                  1.0                            0.0  ...   \n",
       "4                                  1.0                            2.0  ...   \n",
       "\n",
       "   Application Sourcing Sub Channel  Applicant's Policy Sum Assured  \\\n",
       "0                               1.0                       1000000.0   \n",
       "1                               1.0                       1000000.0   \n",
       "2                               1.0                        600000.0   \n",
       "3                               1.0                        500000.0   \n",
       "4                               1.0                        500000.0   \n",
       "\n",
       "   HDFC Life Operational Zone  Application Login year  \\\n",
       "0                         0.0                  2018.0   \n",
       "1                         5.0                  2018.0   \n",
       "2                         1.0                  2018.0   \n",
       "3                         5.0                  2018.0   \n",
       "4                         1.0                  2018.0   \n",
       "\n",
       "   Application Login month  Application Login day  Mapped Agent city  \\\n",
       "0                      1.0                   29.0               10.0   \n",
       "1                      7.0                   20.0               10.0   \n",
       "2                      3.0                   27.0               10.0   \n",
       "3                     12.0                    1.0               10.0   \n",
       "4                      1.0                    1.0               10.0   \n",
       "\n",
       "   Applicant's Policy Contract city  Target  smoker_drinker  \n",
       "0                              13.0     1.0             0.0  \n",
       "1                              13.0     1.0             0.0  \n",
       "2                              13.0     1.0             0.0  \n",
       "3                              13.0     1.0             0.0  \n",
       "4                              13.0     1.0             0.0  \n",
       "\n",
       "[5 rows x 37 columns]"
      ]
     },
     "execution_count": 95,
     "metadata": {},
     "output_type": "execute_result"
    }
   ],
   "source": [
    "clusterCentroidsDf"
   ]
  },
  {
   "cell_type": "markdown",
   "id": "d78dda20",
   "metadata": {},
   "source": [
    "Seperating out the columns on the basis of paid and not paid. Which column is more convinient on paid or not paid"
   ]
  },
  {
   "cell_type": "code",
   "execution_count": 96,
   "id": "9033d880",
   "metadata": {},
   "outputs": [],
   "source": [
    "NP = df_train[df_train['Target'] == 0]"
   ]
  },
  {
   "cell_type": "code",
   "execution_count": 97,
   "id": "ea9dd841",
   "metadata": {},
   "outputs": [],
   "source": [
    "P = df_train[df_train['Target'] == 1]"
   ]
  },
  {
   "cell_type": "code",
   "execution_count": 98,
   "id": "cbbd13ff",
   "metadata": {},
   "outputs": [],
   "source": [
    "NP = NP.drop('Target',axis = 1)"
   ]
  },
  {
   "cell_type": "code",
   "execution_count": 99,
   "id": "d6bee54b",
   "metadata": {},
   "outputs": [],
   "source": [
    "P = P.drop('Target',axis = 1)"
   ]
  },
  {
   "cell_type": "code",
   "execution_count": 100,
   "id": "4c138664",
   "metadata": {},
   "outputs": [
    {
     "data": {
      "text/plain": [
       "Index(['Mapped Agent 13M Persistency', 'Applicant's Policy Annualized Premium',\n",
       "       'Mapped Agent Vintage', 'Auto Debit of Premium Opted Flag(Yes/No)',\n",
       "       'Application Life Assured BMI',\n",
       "       'Total Risk Exposure of HDFC Life w.r.t. Life Assured',\n",
       "       'Application  Sourcing Channel', 'Application  Life Assured City',\n",
       "       'Application  Life Assured City Tier', 'Application  Life Assured Age',\n",
       "       'Application  Life Assured Education',\n",
       "       'Application  Life Assured Gender', 'Application  Life Assured Income',\n",
       "       'Application  Life Assured Industry',\n",
       "       'Application  Life Assured Marital Status',\n",
       "       'Application  Life Assured Occupation',\n",
       "       'Applicant's Policy PAR/NON PAR/ULIP Tag',\n",
       "       'Application Specific Sourcing Partner', 'First Premium Payment Type',\n",
       "       'Applicant's Policy Product Category',\n",
       "       'Applicant's Policy Premium Payment Frequency',\n",
       "       'Applicant's Policy Product Name',\n",
       "       'Applicant's Policy Price Sensitivity(1-'Yes', 0-'No')',\n",
       "       'Application Life Assured Residential Status',\n",
       "       'Applicant's Policy Risk Cessation Term',\n",
       "       'Applicant's Policy Rider Opted Flag(1-'Yes', 0-'No')',\n",
       "       'Application Life Assured State', 'Application Sourcing Sub Channel',\n",
       "       'Applicant's Policy Sum Assured', 'HDFC Life Operational Zone',\n",
       "       'Application Login year', 'Application Login month',\n",
       "       'Application Login day', 'Mapped Agent city',\n",
       "       'Applicant's Policy Contract city', 'Target', 'smoker_drinker'],\n",
       "      dtype='object')"
      ]
     },
     "execution_count": 100,
     "metadata": {},
     "output_type": "execute_result"
    }
   ],
   "source": [
    "df_train.columns"
   ]
  },
  {
   "cell_type": "code",
   "execution_count": 101,
   "id": "6398c8bc",
   "metadata": {},
   "outputs": [],
   "source": [
    "a = []\n",
    "b = []"
   ]
  },
  {
   "cell_type": "code",
   "execution_count": 102,
   "id": "b65e896e",
   "metadata": {},
   "outputs": [],
   "source": [
    "for i in range(len(P.columns)):\n",
    "        a.append(NP.iloc[:,i].mean())"
   ]
  },
  {
   "cell_type": "code",
   "execution_count": 103,
   "id": "a781b5b4",
   "metadata": {},
   "outputs": [],
   "source": [
    "for j in range(len(P.columns)):\n",
    "        b.append(P.iloc[:,j].mean())"
   ]
  },
  {
   "cell_type": "code",
   "execution_count": 104,
   "id": "c42d0f21",
   "metadata": {},
   "outputs": [],
   "source": [
    "dx = pd.DataFrame()"
   ]
  },
  {
   "cell_type": "code",
   "execution_count": 105,
   "id": "b1dafb6d",
   "metadata": {},
   "outputs": [
    {
     "data": {
      "text/plain": [
       "36"
      ]
     },
     "execution_count": 105,
     "metadata": {},
     "output_type": "execute_result"
    }
   ],
   "source": [
    "len(a)"
   ]
  },
  {
   "cell_type": "code",
   "execution_count": 106,
   "id": "6a7dbc52",
   "metadata": {},
   "outputs": [],
   "source": [
    "dx['NP'] = a"
   ]
  },
  {
   "cell_type": "code",
   "execution_count": 107,
   "id": "a17f1fd9",
   "metadata": {},
   "outputs": [],
   "source": [
    "dx['P'] = b"
   ]
  },
  {
   "cell_type": "code",
   "execution_count": 108,
   "id": "7ea7dea1",
   "metadata": {},
   "outputs": [],
   "source": [
    "dx.index = P.columns"
   ]
  },
  {
   "cell_type": "code",
   "execution_count": 109,
   "id": "3e9ce40d",
   "metadata": {},
   "outputs": [
    {
     "data": {
      "text/html": [
       "<div>\n",
       "<style scoped>\n",
       "    .dataframe tbody tr th:only-of-type {\n",
       "        vertical-align: middle;\n",
       "    }\n",
       "\n",
       "    .dataframe tbody tr th {\n",
       "        vertical-align: top;\n",
       "    }\n",
       "\n",
       "    .dataframe thead th {\n",
       "        text-align: right;\n",
       "    }\n",
       "</style>\n",
       "<table border=\"1\" class=\"dataframe\">\n",
       "  <thead>\n",
       "    <tr style=\"text-align: right;\">\n",
       "      <th></th>\n",
       "      <th>NP</th>\n",
       "      <th>P</th>\n",
       "    </tr>\n",
       "  </thead>\n",
       "  <tbody>\n",
       "    <tr>\n",
       "      <th>Mapped Agent 13M Persistency</th>\n",
       "      <td>7.634366e+01</td>\n",
       "      <td>7.822451e+01</td>\n",
       "    </tr>\n",
       "    <tr>\n",
       "      <th>Applicant's Policy Annualized Premium</th>\n",
       "      <td>5.613681e+04</td>\n",
       "      <td>6.617417e+04</td>\n",
       "    </tr>\n",
       "    <tr>\n",
       "      <th>Mapped Agent Vintage</th>\n",
       "      <td>2.279722e+01</td>\n",
       "      <td>2.484416e+01</td>\n",
       "    </tr>\n",
       "    <tr>\n",
       "      <th>Auto Debit of Premium Opted Flag(Yes/No)</th>\n",
       "      <td>9.809167e-02</td>\n",
       "      <td>7.420991e-01</td>\n",
       "    </tr>\n",
       "    <tr>\n",
       "      <th>Application Life Assured BMI</th>\n",
       "      <td>2.399857e+00</td>\n",
       "      <td>2.411911e+00</td>\n",
       "    </tr>\n",
       "    <tr>\n",
       "      <th>Total Risk Exposure of HDFC Life w.r.t. Life Assured</th>\n",
       "      <td>1.571289e+06</td>\n",
       "      <td>1.974444e+06</td>\n",
       "    </tr>\n",
       "    <tr>\n",
       "      <th>Application  Sourcing Channel</th>\n",
       "      <td>1.932049e+00</td>\n",
       "      <td>1.891949e+00</td>\n",
       "    </tr>\n",
       "    <tr>\n",
       "      <th>Application  Life Assured City</th>\n",
       "      <td>9.114678e+00</td>\n",
       "      <td>8.857049e+00</td>\n",
       "    </tr>\n",
       "    <tr>\n",
       "      <th>Application  Life Assured City Tier</th>\n",
       "      <td>1.337792e+00</td>\n",
       "      <td>1.199564e+00</td>\n",
       "    </tr>\n",
       "    <tr>\n",
       "      <th>Application  Life Assured Age</th>\n",
       "      <td>1.611557e+00</td>\n",
       "      <td>1.541572e+00</td>\n",
       "    </tr>\n",
       "    <tr>\n",
       "      <th>Application  Life Assured Education</th>\n",
       "      <td>3.057963e+00</td>\n",
       "      <td>3.092426e+00</td>\n",
       "    </tr>\n",
       "    <tr>\n",
       "      <th>Application  Life Assured Gender</th>\n",
       "      <td>8.175495e-01</td>\n",
       "      <td>7.573175e-01</td>\n",
       "    </tr>\n",
       "    <tr>\n",
       "      <th>Application  Life Assured Income</th>\n",
       "      <td>7.986899e+05</td>\n",
       "      <td>9.977193e+05</td>\n",
       "    </tr>\n",
       "    <tr>\n",
       "      <th>Application  Life Assured Industry</th>\n",
       "      <td>6.962904e+00</td>\n",
       "      <td>7.340182e+00</td>\n",
       "    </tr>\n",
       "    <tr>\n",
       "      <th>Application  Life Assured Marital Status</th>\n",
       "      <td>1.151061e+00</td>\n",
       "      <td>1.142647e+00</td>\n",
       "    </tr>\n",
       "    <tr>\n",
       "      <th>Application  Life Assured Occupation</th>\n",
       "      <td>3.197788e+00</td>\n",
       "      <td>3.242784e+00</td>\n",
       "    </tr>\n",
       "    <tr>\n",
       "      <th>Applicant's Policy PAR/NON PAR/ULIP Tag</th>\n",
       "      <td>1.562868e+00</td>\n",
       "      <td>1.606300e+00</td>\n",
       "    </tr>\n",
       "    <tr>\n",
       "      <th>Application Specific Sourcing Partner</th>\n",
       "      <td>4.807544e+01</td>\n",
       "      <td>4.628545e+01</td>\n",
       "    </tr>\n",
       "    <tr>\n",
       "      <th>First Premium Payment Type</th>\n",
       "      <td>3.373462e+00</td>\n",
       "      <td>3.160199e+00</td>\n",
       "    </tr>\n",
       "    <tr>\n",
       "      <th>Applicant's Policy Product Category</th>\n",
       "      <td>1.526485e+00</td>\n",
       "      <td>1.398214e+00</td>\n",
       "    </tr>\n",
       "    <tr>\n",
       "      <th>Applicant's Policy Premium Payment Frequency</th>\n",
       "      <td>8.043517e-02</td>\n",
       "      <td>1.604525e-01</td>\n",
       "    </tr>\n",
       "    <tr>\n",
       "      <th>Applicant's Policy Product Name</th>\n",
       "      <td>8.398966e+00</td>\n",
       "      <td>8.087912e+00</td>\n",
       "    </tr>\n",
       "    <tr>\n",
       "      <th>Applicant's Policy Price Sensitivity(1-'Yes', 0-'No')</th>\n",
       "      <td>9.559479e-02</td>\n",
       "      <td>1.075432e-01</td>\n",
       "    </tr>\n",
       "    <tr>\n",
       "      <th>Application Life Assured Residential Status</th>\n",
       "      <td>1.000000e+00</td>\n",
       "      <td>9.993913e-01</td>\n",
       "    </tr>\n",
       "    <tr>\n",
       "      <th>Applicant's Policy Risk Cessation Term</th>\n",
       "      <td>1.337489e+01</td>\n",
       "      <td>1.357449e+01</td>\n",
       "    </tr>\n",
       "    <tr>\n",
       "      <th>Applicant's Policy Rider Opted Flag(1-'Yes', 0-'No')</th>\n",
       "      <td>5.664348e-01</td>\n",
       "      <td>5.041343e-01</td>\n",
       "    </tr>\n",
       "    <tr>\n",
       "      <th>Application Life Assured State</th>\n",
       "      <td>6.827894e+00</td>\n",
       "      <td>6.478973e+00</td>\n",
       "    </tr>\n",
       "    <tr>\n",
       "      <th>Application Sourcing Sub Channel</th>\n",
       "      <td>2.081684e+00</td>\n",
       "      <td>1.812307e+00</td>\n",
       "    </tr>\n",
       "    <tr>\n",
       "      <th>Applicant's Policy Sum Assured</th>\n",
       "      <td>1.579807e+06</td>\n",
       "      <td>1.885690e+06</td>\n",
       "    </tr>\n",
       "    <tr>\n",
       "      <th>HDFC Life Operational Zone</th>\n",
       "      <td>2.320314e+00</td>\n",
       "      <td>2.508243e+00</td>\n",
       "    </tr>\n",
       "    <tr>\n",
       "      <th>Application Login year</th>\n",
       "      <td>2.018058e+03</td>\n",
       "      <td>2.018047e+03</td>\n",
       "    </tr>\n",
       "    <tr>\n",
       "      <th>Application Login month</th>\n",
       "      <td>6.312110e+00</td>\n",
       "      <td>6.293208e+00</td>\n",
       "    </tr>\n",
       "    <tr>\n",
       "      <th>Application Login day</th>\n",
       "      <td>1.711200e+01</td>\n",
       "      <td>1.738416e+01</td>\n",
       "    </tr>\n",
       "    <tr>\n",
       "      <th>Mapped Agent city</th>\n",
       "      <td>7.785090e+00</td>\n",
       "      <td>7.905545e+00</td>\n",
       "    </tr>\n",
       "    <tr>\n",
       "      <th>Applicant's Policy Contract city</th>\n",
       "      <td>9.911182e+00</td>\n",
       "      <td>9.839395e+00</td>\n",
       "    </tr>\n",
       "    <tr>\n",
       "      <th>smoker_drinker</th>\n",
       "      <td>3.531300e-02</td>\n",
       "      <td>3.170497e-02</td>\n",
       "    </tr>\n",
       "  </tbody>\n",
       "</table>\n",
       "</div>"
      ],
      "text/plain": [
       "                                                              NP             P\n",
       "Mapped Agent 13M Persistency                        7.634366e+01  7.822451e+01\n",
       "Applicant's Policy Annualized Premium               5.613681e+04  6.617417e+04\n",
       "Mapped Agent Vintage                                2.279722e+01  2.484416e+01\n",
       "Auto Debit of Premium Opted Flag(Yes/No)            9.809167e-02  7.420991e-01\n",
       "Application Life Assured BMI                        2.399857e+00  2.411911e+00\n",
       "Total Risk Exposure of HDFC Life w.r.t. Life As...  1.571289e+06  1.974444e+06\n",
       "Application  Sourcing Channel                       1.932049e+00  1.891949e+00\n",
       "Application  Life Assured City                      9.114678e+00  8.857049e+00\n",
       "Application  Life Assured City Tier                 1.337792e+00  1.199564e+00\n",
       "Application  Life Assured Age                       1.611557e+00  1.541572e+00\n",
       "Application  Life Assured Education                 3.057963e+00  3.092426e+00\n",
       "Application  Life Assured Gender                    8.175495e-01  7.573175e-01\n",
       "Application  Life Assured Income                    7.986899e+05  9.977193e+05\n",
       "Application  Life Assured Industry                  6.962904e+00  7.340182e+00\n",
       "Application  Life Assured Marital Status            1.151061e+00  1.142647e+00\n",
       "Application  Life Assured Occupation                3.197788e+00  3.242784e+00\n",
       "Applicant's Policy PAR/NON PAR/ULIP Tag             1.562868e+00  1.606300e+00\n",
       "Application Specific Sourcing Partner               4.807544e+01  4.628545e+01\n",
       "First Premium Payment Type                          3.373462e+00  3.160199e+00\n",
       "Applicant's Policy Product Category                 1.526485e+00  1.398214e+00\n",
       "Applicant's Policy Premium Payment Frequency        8.043517e-02  1.604525e-01\n",
       "Applicant's Policy Product Name                     8.398966e+00  8.087912e+00\n",
       "Applicant's Policy Price Sensitivity(1-'Yes', 0...  9.559479e-02  1.075432e-01\n",
       "Application Life Assured Residential Status         1.000000e+00  9.993913e-01\n",
       "Applicant's Policy Risk Cessation Term              1.337489e+01  1.357449e+01\n",
       "Applicant's Policy Rider Opted Flag(1-'Yes', 0-...  5.664348e-01  5.041343e-01\n",
       "Application Life Assured State                      6.827894e+00  6.478973e+00\n",
       "Application Sourcing Sub Channel                    2.081684e+00  1.812307e+00\n",
       "Applicant's Policy Sum Assured                      1.579807e+06  1.885690e+06\n",
       "HDFC Life Operational Zone                          2.320314e+00  2.508243e+00\n",
       "Application Login year                              2.018058e+03  2.018047e+03\n",
       "Application Login month                             6.312110e+00  6.293208e+00\n",
       "Application Login day                               1.711200e+01  1.738416e+01\n",
       "Mapped Agent city                                   7.785090e+00  7.905545e+00\n",
       "Applicant's Policy Contract city                    9.911182e+00  9.839395e+00\n",
       "smoker_drinker                                      3.531300e-02  3.170497e-02"
      ]
     },
     "execution_count": 109,
     "metadata": {},
     "output_type": "execute_result"
    }
   ],
   "source": [
    "dx"
   ]
  },
  {
   "cell_type": "code",
   "execution_count": 110,
   "id": "b29b78f2",
   "metadata": {},
   "outputs": [],
   "source": [
    "dx['diff'] = dx['P'] - dx['NP']"
   ]
  },
  {
   "cell_type": "code",
   "execution_count": 111,
   "id": "02c7577a",
   "metadata": {},
   "outputs": [],
   "source": [
    "dx['diff'] = (dx['diff'] - dx['diff'].min())/(dx['diff'].max() - dx['diff'].min())"
   ]
  },
  {
   "cell_type": "code",
   "execution_count": 112,
   "id": "18c9ff08",
   "metadata": {},
   "outputs": [
    {
     "data": {
      "text/plain": [
       "Mapped Agent 13M Persistency                             0.000009\n",
       "Applicant's Policy Annualized Premium                    0.024901\n",
       "Mapped Agent Vintage                                     0.000010\n",
       "Auto Debit of Premium Opted Flag(Yes/No)                 0.000006\n",
       "Application Life Assured BMI                             0.000004\n",
       "Total Risk Exposure of HDFC Life w.r.t. Life Assured     1.000000\n",
       "Application  Sourcing Channel                            0.000004\n",
       "Application  Life Assured City                           0.000004\n",
       "Application  Life Assured City Tier                      0.000004\n",
       "Application  Life Assured Age                            0.000004\n",
       "Application  Life Assured Education                      0.000005\n",
       "Application  Life Assured Gender                         0.000004\n",
       "Application  Life Assured Income                         0.493681\n",
       "Application  Life Assured Industry                       0.000005\n",
       "Application  Life Assured Marital Status                 0.000004\n",
       "Application  Life Assured Occupation                     0.000005\n",
       "Applicant's Policy PAR/NON PAR/ULIP Tag                  0.000005\n",
       "Application Specific Sourcing Partner                    0.000000\n",
       "First Premium Payment Type                               0.000004\n",
       "Applicant's Policy Product Category                      0.000004\n",
       "Applicant's Policy Premium Payment Frequency             0.000005\n",
       "Applicant's Policy Product Name                          0.000004\n",
       "Applicant's Policy Price Sensitivity(1-'Yes', 0-'No')    0.000004\n",
       "Application Life Assured Residential Status              0.000004\n",
       "Applicant's Policy Risk Cessation Term                   0.000005\n",
       "Applicant's Policy Rider Opted Flag(1-'Yes', 0-'No')     0.000004\n",
       "Application Life Assured State                           0.000004\n",
       "Application Sourcing Sub Channel                         0.000004\n",
       "Applicant's Policy Sum Assured                           0.758723\n",
       "HDFC Life Operational Zone                               0.000005\n",
       "Application Login year                                   0.000004\n",
       "Application Login month                                  0.000004\n",
       "Application Login day                                    0.000005\n",
       "Mapped Agent city                                        0.000005\n",
       "Applicant's Policy Contract city                         0.000004\n",
       "smoker_drinker                                           0.000004\n",
       "Name: diff, dtype: float64"
      ]
     },
     "execution_count": 112,
     "metadata": {},
     "output_type": "execute_result"
    }
   ],
   "source": [
    "dx['diff']"
   ]
  },
  {
   "cell_type": "code",
   "execution_count": 113,
   "id": "eee2aa73",
   "metadata": {},
   "outputs": [
    {
     "data": {
      "image/png": "[encoded data removed]",
      "text/plain": [
       "<Figure size 1080x576 with 1 Axes>"
      ]
     },
     "metadata": {},
     "output_type": "display_data"
    }
   ],
   "source": [
    "dx['diff'].plot(kind = 'bar', figsize = (15,8) )\n",
    "plt.xticks(fontsize=20)\n",
    "plt.yticks(fontsize=20)\n",
    "plt.show()"
   ]
  },
  {
   "cell_type": "code",
   "execution_count": null,
   "id": "6c59934b",
   "metadata": {},
   "outputs": [],
   "source": []
  }
 ],
 "metadata": {
  "kernelspec": {
   "display_name": "Python 3 (ipykernel)",
   "language": "python",
   "name": "python3"
  },
  "language_info": {
   "codemirror_mode": {
    "name": "ipython",
    "version": 3
   },
   "file_extension": ".py",
   "mimetype": "text/x-python",
   "name": "python",
   "nbconvert_exporter": "python",
   "pygments_lexer": "ipython3",
   "version": "3.8.8"
  }
 },
 "nbformat": 4,
 "nbformat_minor": 5
}
